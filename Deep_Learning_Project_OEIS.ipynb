{
  "nbformat": 4,
  "nbformat_minor": 0,
  "metadata": {
    "colab": {
      "provenance": [],
      "toc_visible": true,
      "mount_file_id": "1ziavdfw9PAhdIWgnXH9qOMBjY15yqMXH",
      "authorship_tag": "ABX9TyMNYWVk7t2jCj4nuTsH3smo",
      "include_colab_link": true
    },
    "kernelspec": {
      "name": "python3",
      "display_name": "Python 3"
    },
    "language_info": {
      "name": "python"
    },
    "gpuClass": "standard"
  },
  "cells": [
    {
      "cell_type": "markdown",
      "metadata": {
        "id": "view-in-github",
        "colab_type": "text"
      },
      "source": [
        "<a href=\"https://colab.research.google.com/github/HeTalksInMaths/DeepMLProj-OEIS/blob/main/Deep_Learning_Project_OEIS.ipynb\" target=\"_parent\"><img src=\"https://colab.research.google.com/assets/colab-badge.svg\" alt=\"Open In Colab\"/></a>"
      ]
    },
    {
      "cell_type": "markdown",
      "source": [
        "# Fixed Time-Step Numerical Sequence Learning"
      ],
      "metadata": {
        "id": "uWDKsO8Wy0mO"
      }
    },
    {
      "cell_type": "markdown",
      "source": [
        "# Project Overiew\n"
      ],
      "metadata": {
        "id": "jOU56KENrPgM"
      }
    },
    {
      "cell_type": "markdown",
      "source": [
        "While recurrent neural networks h\n",
        "\n",
        "Two approaches\n",
        "\n",
        "Tax planning Dec 31 market prices, final room occupancy nights etc. Stocks may not necessarily be considered as samples drawn from the same distribution especially if the sample set is not particularly large.\n",
        "\n",
        "Is information specific to the time-step more important in model fitting or is information from all sequences (especially if they are not drawn from the same distribution)\n",
        ".\n",
        "\n",
        "Experimental proceducure for time-series requires generallyr requires additional care to avoid data leakage in comparison to standard supervised learning. Two approaches will be considered here with the aim of learning the 10th sequence value in OEIS sequences. Validation sets are constructed for hyperparameter tuning and avoid model overfitting to ensure generalizability.\n",
        "\n",
        "\n",
        "Aim to help further understanding of how strongly subsets of sequences within OEIS are related to one another and if there is inherent structure across them.\n",
        "\n",
        "\n",
        "The github repository link is located here: https://github.com/HeTalksInMaths/DeepMLProj-OEIS"
      ],
      "metadata": {
        "id": "aaRy4G3Zy6BQ"
      }
    },
    {
      "cell_type": "markdown",
      "source": [
        "# Imports"
      ],
      "metadata": {
        "id": "TuYYEzOZzfGH"
      }
    },
    {
      "cell_type": "code",
      "execution_count": 1,
      "metadata": {
        "id": "-v-5vlbVGlY1"
      },
      "outputs": [],
      "source": [
        "import numpy as np \n",
        "import pandas as pd \n",
        "import matplotlib.pyplot as plt\n",
        "import keras\n",
        "import tensorflow as tf\n",
        "from sklearn.model_selection import train_test_split\n",
        "import seaborn as sns"
      ]
    },
    {
      "cell_type": "markdown",
      "source": [
        "# Loading Data"
      ],
      "metadata": {
        "id": "2DxmpeWBrY_H"
      }
    },
    {
      "cell_type": "code",
      "source": [
        "fileid='1cD9NbA40x9Nu8k2F7pSr3aKhS0VASfip'\n",
        "filename='oeis.csv'\n",
        "\n",
        "!wget -O $filename 'https://docs.google.com/uc?export=download&id='$fileid"
      ],
      "metadata": {
        "colab": {
          "base_uri": "https://localhost:8080/"
        },
        "id": "1qwN84bAG05b",
        "outputId": "d714cead-70bc-4000-f305-cfb2ee2415aa"
      },
      "execution_count": 2,
      "outputs": [
        {
          "output_type": "stream",
          "name": "stdout",
          "text": [
            "--2022-12-06 23:00:52--  https://docs.google.com/uc?export=download&id=1cD9NbA40x9Nu8k2F7pSr3aKhS0VASfip\n",
            "Resolving docs.google.com (docs.google.com)... 142.251.16.100, 142.251.16.101, 142.251.16.139, ...\n",
            "Connecting to docs.google.com (docs.google.com)|142.251.16.100|:443... connected.\n",
            "HTTP request sent, awaiting response... 303 See Other\n",
            "Location: https://doc-0o-4k-docs.googleusercontent.com/docs/securesc/ha0ro937gcuc7l7deffksulhg5h7mbp1/hqll1i7b4n6th5k2fad2djcbu9o6du6j/1670367600000/02208792382482262317/*/1cD9NbA40x9Nu8k2F7pSr3aKhS0VASfip?e=download&uuid=85aa7878-f968-455e-8efe-d1303bf41661 [following]\n",
            "Warning: wildcards not supported in HTTP.\n",
            "--2022-12-06 23:00:57--  https://doc-0o-4k-docs.googleusercontent.com/docs/securesc/ha0ro937gcuc7l7deffksulhg5h7mbp1/hqll1i7b4n6th5k2fad2djcbu9o6du6j/1670367600000/02208792382482262317/*/1cD9NbA40x9Nu8k2F7pSr3aKhS0VASfip?e=download&uuid=85aa7878-f968-455e-8efe-d1303bf41661\n",
            "Resolving doc-0o-4k-docs.googleusercontent.com (doc-0o-4k-docs.googleusercontent.com)... 172.217.1.193, 2607:f8b0:4004:80a::2001\n",
            "Connecting to doc-0o-4k-docs.googleusercontent.com (doc-0o-4k-docs.googleusercontent.com)|172.217.1.193|:443... connected.\n",
            "HTTP request sent, awaiting response... 200 OK\n",
            "Length: 70565846 (67M) [text/csv]\n",
            "Saving to: ‘oeis.csv’\n",
            "\n",
            "oeis.csv            100%[===================>]  67.30M  83.1MB/s    in 0.8s    \n",
            "\n",
            "2022-12-06 23:00:58 (83.1 MB/s) - ‘oeis.csv’ saved [70565846/70565846]\n",
            "\n"
          ]
        }
      ]
    },
    {
      "cell_type": "code",
      "source": [
        "dfseq = pd.read_csv('/content/oeis.csv', header=None, skiprows=4, usecols=range(11), names=[\"Sequence\", \n",
        "                                                                                                        '1', '2', '3', '4', '5', '6', '7', '8', '9', '10'])\n",
        "\n",
        "for c in dfseq.columns[1:]:\n",
        "  dfseq[c] = pd.to_numeric(dfseq[c], errors='coerce', downcast=\"integer\")"
      ],
      "metadata": {
        "colab": {
          "base_uri": "https://localhost:8080/"
        },
        "id": "jpsDY5ieG2op",
        "outputId": "ddc9d9b9-1fc9-44f6-8f88-942b8612a8be"
      },
      "execution_count": 3,
      "outputs": [
        {
          "output_type": "stream",
          "name": "stderr",
          "text": [
            "/usr/local/lib/python3.8/dist-packages/IPython/core/interactiveshell.py:3326: DtypeWarning: Columns (1,2) have mixed types.Specify dtype option on import or set low_memory=False.\n",
            "  exec(code_obj, self.user_global_ns, self.user_ns)\n"
          ]
        }
      ]
    },
    {
      "cell_type": "markdown",
      "source": [
        "# Exploratory Data Analysis (EDA)"
      ],
      "metadata": {
        "id": "R8yk1G__88vR"
      }
    },
    {
      "cell_type": "code",
      "source": [
        "dfseq.head()"
      ],
      "metadata": {
        "colab": {
          "base_uri": "https://localhost:8080/",
          "height": 206
        },
        "id": "qwNIQECQBDve",
        "outputId": "43c03d28-875f-4934-d30f-d0d6f0e8cde0"
      },
      "execution_count": 4,
      "outputs": [
        {
          "output_type": "execute_result",
          "data": {
            "text/plain": [
              "   Sequence    1    2    3    4    5    6    7    8    9   10\n",
              "0  A000001   0.0  1.0  1.0  1.0  2.0  1.0  2.0  1.0  5.0  2.0\n",
              "1  A000002   1.0  2.0  2.0  1.0  1.0  2.0  1.0  2.0  2.0  1.0\n",
              "2  A000003   1.0  1.0  1.0  1.0  2.0  2.0  1.0  2.0  2.0  2.0\n",
              "3  A000004   0.0  0.0  0.0  0.0  0.0  0.0  0.0  0.0  0.0  0.0\n",
              "4  A000005   1.0  2.0  2.0  3.0  2.0  4.0  2.0  4.0  3.0  4.0"
            ],
            "text/html": [
              "\n",
              "  <div id=\"df-40fe3998-0f47-4494-8c76-3bbf3df56363\">\n",
              "    <div class=\"colab-df-container\">\n",
              "      <div>\n",
              "<style scoped>\n",
              "    .dataframe tbody tr th:only-of-type {\n",
              "        vertical-align: middle;\n",
              "    }\n",
              "\n",
              "    .dataframe tbody tr th {\n",
              "        vertical-align: top;\n",
              "    }\n",
              "\n",
              "    .dataframe thead th {\n",
              "        text-align: right;\n",
              "    }\n",
              "</style>\n",
              "<table border=\"1\" class=\"dataframe\">\n",
              "  <thead>\n",
              "    <tr style=\"text-align: right;\">\n",
              "      <th></th>\n",
              "      <th>Sequence</th>\n",
              "      <th>1</th>\n",
              "      <th>2</th>\n",
              "      <th>3</th>\n",
              "      <th>4</th>\n",
              "      <th>5</th>\n",
              "      <th>6</th>\n",
              "      <th>7</th>\n",
              "      <th>8</th>\n",
              "      <th>9</th>\n",
              "      <th>10</th>\n",
              "    </tr>\n",
              "  </thead>\n",
              "  <tbody>\n",
              "    <tr>\n",
              "      <th>0</th>\n",
              "      <td>A000001</td>\n",
              "      <td>0.0</td>\n",
              "      <td>1.0</td>\n",
              "      <td>1.0</td>\n",
              "      <td>1.0</td>\n",
              "      <td>2.0</td>\n",
              "      <td>1.0</td>\n",
              "      <td>2.0</td>\n",
              "      <td>1.0</td>\n",
              "      <td>5.0</td>\n",
              "      <td>2.0</td>\n",
              "    </tr>\n",
              "    <tr>\n",
              "      <th>1</th>\n",
              "      <td>A000002</td>\n",
              "      <td>1.0</td>\n",
              "      <td>2.0</td>\n",
              "      <td>2.0</td>\n",
              "      <td>1.0</td>\n",
              "      <td>1.0</td>\n",
              "      <td>2.0</td>\n",
              "      <td>1.0</td>\n",
              "      <td>2.0</td>\n",
              "      <td>2.0</td>\n",
              "      <td>1.0</td>\n",
              "    </tr>\n",
              "    <tr>\n",
              "      <th>2</th>\n",
              "      <td>A000003</td>\n",
              "      <td>1.0</td>\n",
              "      <td>1.0</td>\n",
              "      <td>1.0</td>\n",
              "      <td>1.0</td>\n",
              "      <td>2.0</td>\n",
              "      <td>2.0</td>\n",
              "      <td>1.0</td>\n",
              "      <td>2.0</td>\n",
              "      <td>2.0</td>\n",
              "      <td>2.0</td>\n",
              "    </tr>\n",
              "    <tr>\n",
              "      <th>3</th>\n",
              "      <td>A000004</td>\n",
              "      <td>0.0</td>\n",
              "      <td>0.0</td>\n",
              "      <td>0.0</td>\n",
              "      <td>0.0</td>\n",
              "      <td>0.0</td>\n",
              "      <td>0.0</td>\n",
              "      <td>0.0</td>\n",
              "      <td>0.0</td>\n",
              "      <td>0.0</td>\n",
              "      <td>0.0</td>\n",
              "    </tr>\n",
              "    <tr>\n",
              "      <th>4</th>\n",
              "      <td>A000005</td>\n",
              "      <td>1.0</td>\n",
              "      <td>2.0</td>\n",
              "      <td>2.0</td>\n",
              "      <td>3.0</td>\n",
              "      <td>2.0</td>\n",
              "      <td>4.0</td>\n",
              "      <td>2.0</td>\n",
              "      <td>4.0</td>\n",
              "      <td>3.0</td>\n",
              "      <td>4.0</td>\n",
              "    </tr>\n",
              "  </tbody>\n",
              "</table>\n",
              "</div>\n",
              "      <button class=\"colab-df-convert\" onclick=\"convertToInteractive('df-40fe3998-0f47-4494-8c76-3bbf3df56363')\"\n",
              "              title=\"Convert this dataframe to an interactive table.\"\n",
              "              style=\"display:none;\">\n",
              "        \n",
              "  <svg xmlns=\"http://www.w3.org/2000/svg\" height=\"24px\"viewBox=\"0 0 24 24\"\n",
              "       width=\"24px\">\n",
              "    <path d=\"M0 0h24v24H0V0z\" fill=\"none\"/>\n",
              "    <path d=\"M18.56 5.44l.94 2.06.94-2.06 2.06-.94-2.06-.94-.94-2.06-.94 2.06-2.06.94zm-11 1L8.5 8.5l.94-2.06 2.06-.94-2.06-.94L8.5 2.5l-.94 2.06-2.06.94zm10 10l.94 2.06.94-2.06 2.06-.94-2.06-.94-.94-2.06-.94 2.06-2.06.94z\"/><path d=\"M17.41 7.96l-1.37-1.37c-.4-.4-.92-.59-1.43-.59-.52 0-1.04.2-1.43.59L10.3 9.45l-7.72 7.72c-.78.78-.78 2.05 0 2.83L4 21.41c.39.39.9.59 1.41.59.51 0 1.02-.2 1.41-.59l7.78-7.78 2.81-2.81c.8-.78.8-2.07 0-2.86zM5.41 20L4 18.59l7.72-7.72 1.47 1.35L5.41 20z\"/>\n",
              "  </svg>\n",
              "      </button>\n",
              "      \n",
              "  <style>\n",
              "    .colab-df-container {\n",
              "      display:flex;\n",
              "      flex-wrap:wrap;\n",
              "      gap: 12px;\n",
              "    }\n",
              "\n",
              "    .colab-df-convert {\n",
              "      background-color: #E8F0FE;\n",
              "      border: none;\n",
              "      border-radius: 50%;\n",
              "      cursor: pointer;\n",
              "      display: none;\n",
              "      fill: #1967D2;\n",
              "      height: 32px;\n",
              "      padding: 0 0 0 0;\n",
              "      width: 32px;\n",
              "    }\n",
              "\n",
              "    .colab-df-convert:hover {\n",
              "      background-color: #E2EBFA;\n",
              "      box-shadow: 0px 1px 2px rgba(60, 64, 67, 0.3), 0px 1px 3px 1px rgba(60, 64, 67, 0.15);\n",
              "      fill: #174EA6;\n",
              "    }\n",
              "\n",
              "    [theme=dark] .colab-df-convert {\n",
              "      background-color: #3B4455;\n",
              "      fill: #D2E3FC;\n",
              "    }\n",
              "\n",
              "    [theme=dark] .colab-df-convert:hover {\n",
              "      background-color: #434B5C;\n",
              "      box-shadow: 0px 1px 3px 1px rgba(0, 0, 0, 0.15);\n",
              "      filter: drop-shadow(0px 1px 2px rgba(0, 0, 0, 0.3));\n",
              "      fill: #FFFFFF;\n",
              "    }\n",
              "  </style>\n",
              "\n",
              "      <script>\n",
              "        const buttonEl =\n",
              "          document.querySelector('#df-40fe3998-0f47-4494-8c76-3bbf3df56363 button.colab-df-convert');\n",
              "        buttonEl.style.display =\n",
              "          google.colab.kernel.accessAllowed ? 'block' : 'none';\n",
              "\n",
              "        async function convertToInteractive(key) {\n",
              "          const element = document.querySelector('#df-40fe3998-0f47-4494-8c76-3bbf3df56363');\n",
              "          const dataTable =\n",
              "            await google.colab.kernel.invokeFunction('convertToInteractive',\n",
              "                                                     [key], {});\n",
              "          if (!dataTable) return;\n",
              "\n",
              "          const docLinkHtml = 'Like what you see? Visit the ' +\n",
              "            '<a target=\"_blank\" href=https://colab.research.google.com/notebooks/data_table.ipynb>data table notebook</a>'\n",
              "            + ' to learn more about interactive tables.';\n",
              "          element.innerHTML = '';\n",
              "          dataTable['output_type'] = 'display_data';\n",
              "          await google.colab.output.renderOutput(dataTable, element);\n",
              "          const docLink = document.createElement('div');\n",
              "          docLink.innerHTML = docLinkHtml;\n",
              "          element.appendChild(docLink);\n",
              "        }\n",
              "      </script>\n",
              "    </div>\n",
              "  </div>\n",
              "  "
            ]
          },
          "metadata": {},
          "execution_count": 4
        }
      ]
    },
    {
      "cell_type": "code",
      "source": [
        "dfseq.shape"
      ],
      "metadata": {
        "colab": {
          "base_uri": "https://localhost:8080/"
        },
        "id": "qsS5GbGrHDd4",
        "outputId": "8774e037-72bc-492e-a791-b282c2959ee8"
      },
      "execution_count": 5,
      "outputs": [
        {
          "output_type": "execute_result",
          "data": {
            "text/plain": [
              "(351519, 11)"
            ]
          },
          "metadata": {},
          "execution_count": 5
        }
      ]
    },
    {
      "cell_type": "code",
      "source": [
        "dfseq.dropna(axis=0, inplace = True)\n",
        "dfseq.shape"
      ],
      "metadata": {
        "id": "l-8Exc8xG9Js",
        "colab": {
          "base_uri": "https://localhost:8080/"
        },
        "outputId": "9c0f6565-1d90-4d36-bfe1-1389e84af99e"
      },
      "execution_count": 6,
      "outputs": [
        {
          "output_type": "execute_result",
          "data": {
            "text/plain": [
              "(330583, 11)"
            ]
          },
          "metadata": {},
          "execution_count": 6
        }
      ]
    },
    {
      "cell_type": "code",
      "source": [
        "np.max(dfseq.select_dtypes(include=np.number), axis = 0)"
      ],
      "metadata": {
        "colab": {
          "base_uri": "https://localhost:8080/"
        },
        "id": "KgB11gXn6M8D",
        "outputId": "985a1387-b7f4-47e2-9d49-7fd6e95fd2bf"
      },
      "execution_count": 7,
      "outputs": [
        {
          "output_type": "execute_result",
          "data": {
            "text/plain": [
              "1     1.111111e+127\n",
              "2      3.402824e+38\n",
              "3      1.000000e+63\n",
              "4      2.975857e+79\n",
              "5     9.046413e+110\n",
              "6      5.555556e+70\n",
              "7     2.222222e+205\n",
              "8     1.307539e+167\n",
              "9      3.187368e+96\n",
              "10    8.855667e+163\n",
              "dtype: float64"
            ]
          },
          "metadata": {},
          "execution_count": 7
        }
      ]
    },
    {
      "cell_type": "code",
      "source": [
        "np.mean(dfseq.select_dtypes(include=np.number), axis = 0)"
      ],
      "metadata": {
        "colab": {
          "base_uri": "https://localhost:8080/"
        },
        "id": "jhzg2CWO6Vhu",
        "outputId": "7907aae5-ea4c-48ec-a086-22e9dd7757c9"
      },
      "execution_count": 8,
      "outputs": [
        {
          "output_type": "execute_result",
          "data": {
            "text/plain": [
              "1     3.734517e+121\n",
              "2      1.029400e+33\n",
              "3      6.049918e+57\n",
              "4      9.002553e+73\n",
              "5     2.736503e+105\n",
              "6      1.680533e+65\n",
              "7     6.722131e+199\n",
              "8     3.955251e+161\n",
              "9      9.641659e+90\n",
              "10    2.678803e+158\n",
              "dtype: float64"
            ]
          },
          "metadata": {},
          "execution_count": 8
        }
      ]
    },
    {
      "cell_type": "code",
      "source": [
        "np.median(dfseq.select_dtypes(include=np.number), axis = 0)"
      ],
      "metadata": {
        "colab": {
          "base_uri": "https://localhost:8080/"
        },
        "id": "R0uMNJFG6Z6Q",
        "outputId": "49861d38-2310-449d-cd8b-9e3427b298e9"
      },
      "execution_count": 9,
      "outputs": [
        {
          "output_type": "execute_result",
          "data": {
            "text/plain": [
              "array([  1.,   3.,   6.,  12.,  21.,  33.,  55.,  83., 119., 152.])"
            ]
          },
          "metadata": {},
          "execution_count": 9
        }
      ]
    },
    {
      "cell_type": "code",
      "source": [],
      "metadata": {
        "id": "UrqFehyk6NFT"
      },
      "execution_count": 9,
      "outputs": []
    },
    {
      "cell_type": "code",
      "source": [
        "dfseq_red = dfseq[(dfseq[dfseq.columns[1:11]] <= 100).sum(1) > 9]\n",
        "dfseq_red = dfseq_red[(dfseq_red[dfseq_red.columns[1:11]] >= 0).sum(1) > 9]"
      ],
      "metadata": {
        "id": "LQQElWZxHFk_"
      },
      "execution_count": 10,
      "outputs": []
    },
    {
      "cell_type": "code",
      "source": [
        "dfseq_red.shape"
      ],
      "metadata": {
        "colab": {
          "base_uri": "https://localhost:8080/"
        },
        "id": "jS0ocMAE3CCd",
        "outputId": "8da6640e-cee6-4de0-b7e5-191e477cee8b"
      },
      "execution_count": 11,
      "outputs": [
        {
          "output_type": "execute_result",
          "data": {
            "text/plain": [
              "(137892, 11)"
            ]
          },
          "metadata": {},
          "execution_count": 11
        }
      ]
    },
    {
      "cell_type": "code",
      "source": [
        "dfseq_red_long = dfseq_red.melt(id_vars = ['Sequence'], value_vars= ['1', '2', '3', '4', '5', '6', '7', '8', '9', '10'], \n",
        "                        var_name='n', value_name='Sequence (n)')\n",
        "\n",
        "sns.boxplot( x=dfseq_red_long[\"n\"], y=dfseq_red_long[\"Sequence (n)\"] );\n",
        "plt.show()"
      ],
      "metadata": {
        "colab": {
          "base_uri": "https://localhost:8080/",
          "height": 279
        },
        "id": "GXkdNypS2Fvr",
        "outputId": "30bb11b2-2fa9-4de0-b7c7-e39aa9fe647a"
      },
      "execution_count": 12,
      "outputs": [
        {
          "output_type": "display_data",
          "data": {
            "text/plain": [
              "<Figure size 432x288 with 1 Axes>"
            ],
            "image/png": "[encoded data removed]"
          },
          "metadata": {
            "needs_background": "light"
          }
        }
      ]
    },
    {
      "cell_type": "code",
      "source": [
        "dfseq_1000 = dfseq_red.sample(1000, random_state=0)"
      ],
      "metadata": {
        "id": "vbJjUy75C1F7"
      },
      "execution_count": 13,
      "outputs": []
    },
    {
      "cell_type": "code",
      "source": [
        "dfseq_1000.shape"
      ],
      "metadata": {
        "colab": {
          "base_uri": "https://localhost:8080/"
        },
        "id": "ncranZg14Tad",
        "outputId": "80fbe451-0459-4600-c249-787ab97a0fce"
      },
      "execution_count": 14,
      "outputs": [
        {
          "output_type": "execute_result",
          "data": {
            "text/plain": [
              "(1000, 11)"
            ]
          },
          "metadata": {},
          "execution_count": 14
        }
      ]
    },
    {
      "cell_type": "code",
      "source": [
        "dfseq_1000.head()"
      ],
      "metadata": {
        "colab": {
          "base_uri": "https://localhost:8080/",
          "height": 206
        },
        "id": "s93Jo5jXDCVL",
        "outputId": "862ce1ba-9e67-463a-e498-7ea1a7ac16c6"
      },
      "execution_count": 15,
      "outputs": [
        {
          "output_type": "execute_result",
          "data": {
            "text/plain": [
              "        Sequence    1    2     3    4     5     6     7     8     9    10\n",
              "206739  A206740   1.0  1.0   1.0  1.0   2.0   3.0   4.0   6.0   9.0  13.0\n",
              "253080  A253081   1.0  3.0   5.0  8.0  10.0  14.0  17.0  22.0  24.0  28.0\n",
              "76987   A076988   2.0  3.0  13.0  5.0  21.0  13.0   8.0  89.0  55.0  21.0\n",
              "65433   A065434   2.0  1.0   0.0  2.0   2.0   0.0   3.0   9.0   6.0   3.0\n",
              "26475   A026476   1.0  3.0   4.0  9.0  12.0  23.0  26.0  37.0  40.0  51.0"
            ],
            "text/html": [
              "\n",
              "  <div id=\"df-9af7cf6f-0b1b-4295-857d-46688a059df3\">\n",
              "    <div class=\"colab-df-container\">\n",
              "      <div>\n",
              "<style scoped>\n",
              "    .dataframe tbody tr th:only-of-type {\n",
              "        vertical-align: middle;\n",
              "    }\n",
              "\n",
              "    .dataframe tbody tr th {\n",
              "        vertical-align: top;\n",
              "    }\n",
              "\n",
              "    .dataframe thead th {\n",
              "        text-align: right;\n",
              "    }\n",
              "</style>\n",
              "<table border=\"1\" class=\"dataframe\">\n",
              "  <thead>\n",
              "    <tr style=\"text-align: right;\">\n",
              "      <th></th>\n",
              "      <th>Sequence</th>\n",
              "      <th>1</th>\n",
              "      <th>2</th>\n",
              "      <th>3</th>\n",
              "      <th>4</th>\n",
              "      <th>5</th>\n",
              "      <th>6</th>\n",
              "      <th>7</th>\n",
              "      <th>8</th>\n",
              "      <th>9</th>\n",
              "      <th>10</th>\n",
              "    </tr>\n",
              "  </thead>\n",
              "  <tbody>\n",
              "    <tr>\n",
              "      <th>206739</th>\n",
              "      <td>A206740</td>\n",
              "      <td>1.0</td>\n",
              "      <td>1.0</td>\n",
              "      <td>1.0</td>\n",
              "      <td>1.0</td>\n",
              "      <td>2.0</td>\n",
              "      <td>3.0</td>\n",
              "      <td>4.0</td>\n",
              "      <td>6.0</td>\n",
              "      <td>9.0</td>\n",
              "      <td>13.0</td>\n",
              "    </tr>\n",
              "    <tr>\n",
              "      <th>253080</th>\n",
              "      <td>A253081</td>\n",
              "      <td>1.0</td>\n",
              "      <td>3.0</td>\n",
              "      <td>5.0</td>\n",
              "      <td>8.0</td>\n",
              "      <td>10.0</td>\n",
              "      <td>14.0</td>\n",
              "      <td>17.0</td>\n",
              "      <td>22.0</td>\n",
              "      <td>24.0</td>\n",
              "      <td>28.0</td>\n",
              "    </tr>\n",
              "    <tr>\n",
              "      <th>76987</th>\n",
              "      <td>A076988</td>\n",
              "      <td>2.0</td>\n",
              "      <td>3.0</td>\n",
              "      <td>13.0</td>\n",
              "      <td>5.0</td>\n",
              "      <td>21.0</td>\n",
              "      <td>13.0</td>\n",
              "      <td>8.0</td>\n",
              "      <td>89.0</td>\n",
              "      <td>55.0</td>\n",
              "      <td>21.0</td>\n",
              "    </tr>\n",
              "    <tr>\n",
              "      <th>65433</th>\n",
              "      <td>A065434</td>\n",
              "      <td>2.0</td>\n",
              "      <td>1.0</td>\n",
              "      <td>0.0</td>\n",
              "      <td>2.0</td>\n",
              "      <td>2.0</td>\n",
              "      <td>0.0</td>\n",
              "      <td>3.0</td>\n",
              "      <td>9.0</td>\n",
              "      <td>6.0</td>\n",
              "      <td>3.0</td>\n",
              "    </tr>\n",
              "    <tr>\n",
              "      <th>26475</th>\n",
              "      <td>A026476</td>\n",
              "      <td>1.0</td>\n",
              "      <td>3.0</td>\n",
              "      <td>4.0</td>\n",
              "      <td>9.0</td>\n",
              "      <td>12.0</td>\n",
              "      <td>23.0</td>\n",
              "      <td>26.0</td>\n",
              "      <td>37.0</td>\n",
              "      <td>40.0</td>\n",
              "      <td>51.0</td>\n",
              "    </tr>\n",
              "  </tbody>\n",
              "</table>\n",
              "</div>\n",
              "      <button class=\"colab-df-convert\" onclick=\"convertToInteractive('df-9af7cf6f-0b1b-4295-857d-46688a059df3')\"\n",
              "              title=\"Convert this dataframe to an interactive table.\"\n",
              "              style=\"display:none;\">\n",
              "        \n",
              "  <svg xmlns=\"http://www.w3.org/2000/svg\" height=\"24px\"viewBox=\"0 0 24 24\"\n",
              "       width=\"24px\">\n",
              "    <path d=\"M0 0h24v24H0V0z\" fill=\"none\"/>\n",
              "    <path d=\"M18.56 5.44l.94 2.06.94-2.06 2.06-.94-2.06-.94-.94-2.06-.94 2.06-2.06.94zm-11 1L8.5 8.5l.94-2.06 2.06-.94-2.06-.94L8.5 2.5l-.94 2.06-2.06.94zm10 10l.94 2.06.94-2.06 2.06-.94-2.06-.94-.94-2.06-.94 2.06-2.06.94z\"/><path d=\"M17.41 7.96l-1.37-1.37c-.4-.4-.92-.59-1.43-.59-.52 0-1.04.2-1.43.59L10.3 9.45l-7.72 7.72c-.78.78-.78 2.05 0 2.83L4 21.41c.39.39.9.59 1.41.59.51 0 1.02-.2 1.41-.59l7.78-7.78 2.81-2.81c.8-.78.8-2.07 0-2.86zM5.41 20L4 18.59l7.72-7.72 1.47 1.35L5.41 20z\"/>\n",
              "  </svg>\n",
              "      </button>\n",
              "      \n",
              "  <style>\n",
              "    .colab-df-container {\n",
              "      display:flex;\n",
              "      flex-wrap:wrap;\n",
              "      gap: 12px;\n",
              "    }\n",
              "\n",
              "    .colab-df-convert {\n",
              "      background-color: #E8F0FE;\n",
              "      border: none;\n",
              "      border-radius: 50%;\n",
              "      cursor: pointer;\n",
              "      display: none;\n",
              "      fill: #1967D2;\n",
              "      height: 32px;\n",
              "      padding: 0 0 0 0;\n",
              "      width: 32px;\n",
              "    }\n",
              "\n",
              "    .colab-df-convert:hover {\n",
              "      background-color: #E2EBFA;\n",
              "      box-shadow: 0px 1px 2px rgba(60, 64, 67, 0.3), 0px 1px 3px 1px rgba(60, 64, 67, 0.15);\n",
              "      fill: #174EA6;\n",
              "    }\n",
              "\n",
              "    [theme=dark] .colab-df-convert {\n",
              "      background-color: #3B4455;\n",
              "      fill: #D2E3FC;\n",
              "    }\n",
              "\n",
              "    [theme=dark] .colab-df-convert:hover {\n",
              "      background-color: #434B5C;\n",
              "      box-shadow: 0px 1px 3px 1px rgba(0, 0, 0, 0.15);\n",
              "      filter: drop-shadow(0px 1px 2px rgba(0, 0, 0, 0.3));\n",
              "      fill: #FFFFFF;\n",
              "    }\n",
              "  </style>\n",
              "\n",
              "      <script>\n",
              "        const buttonEl =\n",
              "          document.querySelector('#df-9af7cf6f-0b1b-4295-857d-46688a059df3 button.colab-df-convert');\n",
              "        buttonEl.style.display =\n",
              "          google.colab.kernel.accessAllowed ? 'block' : 'none';\n",
              "\n",
              "        async function convertToInteractive(key) {\n",
              "          const element = document.querySelector('#df-9af7cf6f-0b1b-4295-857d-46688a059df3');\n",
              "          const dataTable =\n",
              "            await google.colab.kernel.invokeFunction('convertToInteractive',\n",
              "                                                     [key], {});\n",
              "          if (!dataTable) return;\n",
              "\n",
              "          const docLinkHtml = 'Like what you see? Visit the ' +\n",
              "            '<a target=\"_blank\" href=https://colab.research.google.com/notebooks/data_table.ipynb>data table notebook</a>'\n",
              "            + ' to learn more about interactive tables.';\n",
              "          element.innerHTML = '';\n",
              "          dataTable['output_type'] = 'display_data';\n",
              "          await google.colab.output.renderOutput(dataTable, element);\n",
              "          const docLink = document.createElement('div');\n",
              "          docLink.innerHTML = docLinkHtml;\n",
              "          element.appendChild(docLink);\n",
              "        }\n",
              "      </script>\n",
              "    </div>\n",
              "  </div>\n",
              "  "
            ]
          },
          "metadata": {},
          "execution_count": 15
        }
      ]
    },
    {
      "cell_type": "code",
      "source": [
        "dfseq_1000_long = dfseq_1000.melt(id_vars = ['Sequence'], value_vars= ['1', '2', '3', '4', '5', '6', '7', '8', '9', '10'], \n",
        "                        var_name='n', value_name='Sequence (n)')\n",
        "\n",
        "sns.boxplot( x=dfseq_1000_long[\"n\"], y=dfseq_1000_long[\"Sequence (n)\"] );\n",
        "plt.show()"
      ],
      "metadata": {
        "colab": {
          "base_uri": "https://localhost:8080/",
          "height": 279
        },
        "id": "QUOwJIpwFQzX",
        "outputId": "2e4f1b52-a6a8-4625-80be-51a31e0d8d06"
      },
      "execution_count": 16,
      "outputs": [
        {
          "output_type": "display_data",
          "data": {
            "text/plain": [
              "<Figure size 432x288 with 1 Axes>"
            ],
            "image/png": "[encoded data removed]"
          },
          "metadata": {
            "needs_background": "light"
          }
        }
      ]
    },
    {
      "cell_type": "code",
      "source": [
        "np.mean(dfseq_red.select_dtypes(include=np.number))"
      ],
      "metadata": {
        "colab": {
          "base_uri": "https://localhost:8080/"
        },
        "id": "K5-RjRSq4tSO",
        "outputId": "0fb98916-993b-44da-91d6-752998c5c09e"
      },
      "execution_count": 17,
      "outputs": [
        {
          "output_type": "execute_result",
          "data": {
            "text/plain": [
              "1      2.044390\n",
              "2      3.241943\n",
              "3      4.664962\n",
              "4      6.194616\n",
              "5      7.935711\n",
              "6      9.499384\n",
              "7     11.746947\n",
              "8     14.303187\n",
              "9     16.718787\n",
              "10    19.064971\n",
              "dtype: float64"
            ]
          },
          "metadata": {},
          "execution_count": 17
        }
      ]
    },
    {
      "cell_type": "code",
      "source": [
        "np.median(np.array(dfseq_red.select_dtypes(include=np.number)), axis = 0)"
      ],
      "metadata": {
        "colab": {
          "base_uri": "https://localhost:8080/"
        },
        "id": "usMUShTG5KFr",
        "outputId": "048af375-6d1d-4985-c71e-0908333fc5df"
      },
      "execution_count": 18,
      "outputs": [
        {
          "output_type": "execute_result",
          "data": {
            "text/plain": [
              "array([1., 2., 3., 4., 5., 5., 7., 8., 9., 9.])"
            ]
          },
          "metadata": {},
          "execution_count": 18
        }
      ]
    },
    {
      "cell_type": "code",
      "source": [
        "np.mean(dfseq_1000.select_dtypes(include=np.number))"
      ],
      "metadata": {
        "colab": {
          "base_uri": "https://localhost:8080/"
        },
        "id": "ZcPK_5M_5ui_",
        "outputId": "6e1425d3-99ff-4a5b-efa5-8ae769244a27"
      },
      "execution_count": 19,
      "outputs": [
        {
          "output_type": "execute_result",
          "data": {
            "text/plain": [
              "1      1.856\n",
              "2      3.426\n",
              "3      4.708\n",
              "4      6.359\n",
              "5      8.190\n",
              "6     10.004\n",
              "7     12.256\n",
              "8     15.241\n",
              "9     17.607\n",
              "10    20.174\n",
              "dtype: float64"
            ]
          },
          "metadata": {},
          "execution_count": 19
        }
      ]
    },
    {
      "cell_type": "code",
      "source": [
        "np.median(np.array(dfseq_1000.select_dtypes(include=np.number)), axis = 0)"
      ],
      "metadata": {
        "colab": {
          "base_uri": "https://localhost:8080/"
        },
        "id": "Qx_yt8014_6g",
        "outputId": "c59c6126-e904-4dc5-b938-f0d4e26ea03c"
      },
      "execution_count": 20,
      "outputs": [
        {
          "output_type": "execute_result",
          "data": {
            "text/plain": [
              "array([ 1.,  2.,  3.,  4.,  5.,  6.,  7.,  9.,  9., 10.])"
            ]
          },
          "metadata": {},
          "execution_count": 20
        }
      ]
    },
    {
      "cell_type": "markdown",
      "source": [],
      "metadata": {
        "id": "iBjsu32SpaBB"
      }
    },
    {
      "cell_type": "code",
      "source": [
        "X = np.array(dfseq_1000.drop(columns = ['Sequence', '10']))\n",
        "y = np.array(dfseq_1000['10'])"
      ],
      "metadata": {
        "id": "VU5ua1mzEdb8"
      },
      "execution_count": 21,
      "outputs": []
    },
    {
      "cell_type": "code",
      "source": [
        "X_train, X_test, y_train, y_test = train_test_split(X, y, test_size=0.1, random_state=0)\n",
        "X_train, X_val, y_train, y_val = train_test_split(X_train, y_train, test_size=2/9, random_state=0) # 2/9 x 0.9 = 0.2"
      ],
      "metadata": {
        "id": "WyMSm8YIxoal"
      },
      "execution_count": 22,
      "outputs": []
    },
    {
      "cell_type": "code",
      "source": [
        "X_train.shape"
      ],
      "metadata": {
        "colab": {
          "base_uri": "https://localhost:8080/"
        },
        "id": "F1UmR5lCE7hx",
        "outputId": "0f528172-ed52-47df-af89-04a042b16a33"
      },
      "execution_count": 23,
      "outputs": [
        {
          "output_type": "execute_result",
          "data": {
            "text/plain": [
              "(700, 9)"
            ]
          },
          "metadata": {},
          "execution_count": 23
        }
      ]
    },
    {
      "cell_type": "code",
      "source": [
        "np.mean(X_train, axis = 0)"
      ],
      "metadata": {
        "colab": {
          "base_uri": "https://localhost:8080/"
        },
        "id": "ROl7ieLbrgDJ",
        "outputId": "9af69aa9-83e2-4d01-95ae-61bea4ce1965"
      },
      "execution_count": 24,
      "outputs": [
        {
          "output_type": "execute_result",
          "data": {
            "text/plain": [
              "array([ 1.94      ,  3.47857143,  4.98      ,  6.5       ,  8.46857143,\n",
              "       10.24857143, 12.45428571, 15.32428571, 17.70142857])"
            ]
          },
          "metadata": {},
          "execution_count": 24
        }
      ]
    },
    {
      "cell_type": "code",
      "source": [
        "np.mean(y_train)"
      ],
      "metadata": {
        "colab": {
          "base_uri": "https://localhost:8080/"
        },
        "id": "T0tHApeyrju2",
        "outputId": "4c23748e-dcec-4c18-efdc-687da9178a73"
      },
      "execution_count": 25,
      "outputs": [
        {
          "output_type": "execute_result",
          "data": {
            "text/plain": [
              "20.338571428571427"
            ]
          },
          "metadata": {},
          "execution_count": 25
        }
      ]
    },
    {
      "cell_type": "markdown",
      "source": [
        "# Experimental Setup"
      ],
      "metadata": {
        "id": "JDnJBvU4-VZ1"
      }
    },
    {
      "cell_type": "markdown",
      "source": [
        "1) Train / Val / Test split where sequences are samples.\n",
        "\n",
        "2) See how growth informs. First 7 to 8 in train, First 8 to 9 in val, first 9 to 10 in test but restricted to test 100 in the prior experimental setup.\n",
        "\n",
        "Use Simple RNN which implementation in Keras has fully connected between RNNs as sequences are short and shouldn't have to worry about vanishing or exploding gradients in long sequences."
      ],
      "metadata": {
        "id": "x_KSVqhZ-XR_"
      }
    },
    {
      "cell_type": "code",
      "source": [
        "y_pred = X_val[:, -1]\n",
        "np.mean(keras.losses.mean_absolute_error(y_val, y_pred))"
      ],
      "metadata": {
        "colab": {
          "base_uri": "https://localhost:8080/"
        },
        "id": "0AQfaHrhDUHH",
        "outputId": "234907a3-cb27-45d1-80c9-337c41375d39"
      },
      "execution_count": 26,
      "outputs": [
        {
          "output_type": "execute_result",
          "data": {
            "text/plain": [
              "6.34"
            ]
          },
          "metadata": {},
          "execution_count": 26
        }
      ]
    },
    {
      "cell_type": "markdown",
      "source": [
        "#Method 1 Hyperparameter Tuning\n"
      ],
      "metadata": {
        "id": "lrex2oES-4ri"
      }
    },
    {
      "cell_type": "markdown",
      "source": [],
      "metadata": {
        "id": "PdIZvCsJwXOn"
      }
    },
    {
      "cell_type": "markdown",
      "source": [],
      "metadata": {
        "id": "q45WgM5aqtNx"
      }
    },
    {
      "cell_type": "code",
      "source": [
        "np.random.seed(0)\n",
        "tf.random.set_seed(0)\n",
        "\n",
        "model1 = keras.models.Sequential([\n",
        "    keras.layers.SimpleRNN(10, input_shape=[None, 1]),\n",
        "    keras.layers.Dense(1)\n",
        "])\n",
        "\n",
        "callback = keras.callbacks.EarlyStopping(monitor='val_loss', restore_best_weights = True, patience=10)\n",
        "\n",
        "model1.compile(loss=\"mae\", optimizer=\"adam\")\n",
        "history1 = model1.fit(X_train, y_train, epochs=500, callbacks = [callback],\n",
        "                    validation_data=(X_val, y_val))"
      ],
      "metadata": {
        "colab": {
          "base_uri": "https://localhost:8080/"
        },
        "id": "vy6D9FOywXbl",
        "outputId": "e2ebf43a-565f-47e3-d360-b7bf965d85f8"
      },
      "execution_count": null,
      "outputs": [
        {
          "output_type": "stream",
          "name": "stdout",
          "text": [
            "Epoch 1/500\n"
          ]
        }
      ]
    },
    {
      "cell_type": "code",
      "source": [
        "model1.summary()"
      ],
      "metadata": {
        "id": "cbPz2EYSas9g"
      },
      "execution_count": null,
      "outputs": []
    },
    {
      "cell_type": "code",
      "source": [
        "plt.plot(range(1,len(history1.history['loss']) + 1), history1.history['loss'])\n",
        "plt.plot(range(1, len(history1.history['loss']) + 1) , history1.history['val_loss'])\n",
        "plt.title('Mean Absolute Error Over Epochs')\n",
        "plt.ylabel('Mean Absolute Error')\n",
        "plt.xlabel('Epoch')\n",
        "plt.legend(['Train', 'Validation'], loc='center right')\n",
        "plt.show()"
      ],
      "metadata": {
        "id": "Dl2ObknQDBhq"
      },
      "execution_count": null,
      "outputs": []
    },
    {
      "cell_type": "markdown",
      "source": [],
      "metadata": {
        "id": "fbF_7kFwDCe0"
      }
    },
    {
      "cell_type": "code",
      "source": [
        "np.random.seed(0)\n",
        "tf.random.set_seed(0)\n",
        "\n",
        "model2 = keras.models.Sequential([\n",
        "    keras.layers.SimpleRNN(20, input_shape=[None, 1]),\n",
        "    keras.layers.Dense(1)\n",
        "])\n",
        "\n",
        "callback = keras.callbacks.EarlyStopping(monitor='val_loss', restore_best_weights = True, patience=10)\n",
        "\n",
        "model2.compile(loss=\"mae\", optimizer=\"adam\")\n",
        "history2 = model2.fit(X_train, y_train, epochs=500, callbacks = [callback],\n",
        "                    validation_data=(X_val, y_val))"
      ],
      "metadata": {
        "id": "hsIjeBktsrEh"
      },
      "execution_count": null,
      "outputs": []
    },
    {
      "cell_type": "code",
      "source": [
        "plt.plot(range(1,len(history2.history['loss']) + 1), history2.history['loss'])\n",
        "plt.plot(range(1, len(history2.history['loss']) + 1) , history2.history['val_loss'])\n",
        "plt.title('Mean Absolute Error Over Epochs')\n",
        "plt.ylabel('Mean Absolute Error')\n",
        "plt.xlabel('Epoch')\n",
        "plt.legend(['Train', 'Validation'], loc='center right')\n",
        "plt.show()"
      ],
      "metadata": {
        "id": "Hiz_6_fsDNZD"
      },
      "execution_count": null,
      "outputs": []
    },
    {
      "cell_type": "code",
      "source": [
        "np.random.seed(0)\n",
        "tf.random.set_seed(0)\n",
        "\n",
        "model3 = keras.models.Sequential([\n",
        "    keras.layers.SimpleRNN(50, input_shape=[None, 1]),\n",
        "    keras.layers.Dense(1)\n",
        "])\n",
        "\n",
        "callback = keras.callbacks.EarlyStopping(monitor='val_loss', restore_best_weights = True, patience=10)\n",
        "\n",
        "model3.compile(loss=\"mae\", optimizer=\"adam\")\n",
        "history3 = model3.fit(X_train, y_train, epochs=500, callbacks = [callback],\n",
        "                    validation_data=(X_val, y_val))"
      ],
      "metadata": {
        "id": "hybWrOjCwanu"
      },
      "execution_count": null,
      "outputs": []
    },
    {
      "cell_type": "code",
      "source": [
        "plt.plot(range(1,len(history3.history['loss']) + 1), history3.history['loss'])\n",
        "plt.plot(range(1, len(history3.history['loss']) + 1) , history3.history['val_loss'])\n",
        "plt.title('Mean Absolute Error Over Epochs')\n",
        "plt.ylabel('Mean Absolute Error')\n",
        "plt.xlabel('Epoch')\n",
        "plt.legend(['Train', 'Validation'], loc='center right')\n",
        "plt.show()"
      ],
      "metadata": {
        "id": "PyxKnylbETuC"
      },
      "execution_count": null,
      "outputs": []
    },
    {
      "cell_type": "code",
      "source": [
        "np.random.seed(0)\n",
        "tf.random.set_seed(0)\n",
        "\n",
        "model4 = keras.models.Sequential([\n",
        "    keras.layers.SimpleRNN(100, input_shape=[None, 1]),\n",
        "    keras.layers.Dense(1)\n",
        "])\n",
        "\n",
        "callback = keras.callbacks.EarlyStopping(monitor='val_loss', restore_best_weights = True, patience=10)\n",
        "\n",
        "model4.compile(loss=\"mae\", optimizer=\"adam\")\n",
        "history4 = model4.fit(X_train, y_train, epochs=500, callbacks = [callback],\n",
        "                    validation_data=(X_val, y_val))"
      ],
      "metadata": {
        "id": "LlHjpaJ1wa6r"
      },
      "execution_count": null,
      "outputs": []
    },
    {
      "cell_type": "code",
      "source": [
        "plt.plot(range(1,len(history4.history['loss']) + 1), history4.history['loss'])\n",
        "plt.plot(range(1, len(history4.history['loss']) + 1) , history4.history['val_loss'])\n",
        "plt.title('Mean Absolute Error Over Epochs')\n",
        "plt.ylabel('Mean Absolute Error')\n",
        "plt.xlabel('Epoch')\n",
        "plt.legend(['Train', 'Validation'], loc='center right')\n",
        "plt.show()"
      ],
      "metadata": {
        "id": "DT3Lvym5EkT2"
      },
      "execution_count": null,
      "outputs": []
    },
    {
      "cell_type": "code",
      "source": [
        "np.random.seed(0)\n",
        "tf.random.set_seed(0)\n",
        "\n",
        "model5 = keras.models.Sequential([\n",
        "    keras.layers.SimpleRNN(200, input_shape=[None, 1]),\n",
        "    keras.layers.Dense(1)\n",
        "])\n",
        "\n",
        "callback = keras.callbacks.EarlyStopping(monitor='val_loss', restore_best_weights = True, patience=10)\n",
        "\n",
        "model5.compile(loss=\"mae\", optimizer=\"adam\")\n",
        "history5 = model5.fit(X_train, y_train, epochs=500, callbacks = [callback],\n",
        "                    validation_data=(X_val, y_val))"
      ],
      "metadata": {
        "id": "naA43q51xpCa"
      },
      "execution_count": null,
      "outputs": []
    },
    {
      "cell_type": "code",
      "source": [
        "plt.plot(range(1,len(history5.history['loss']) + 1), history5.history['loss'])\n",
        "plt.plot(range(1, len(history5.history['loss']) + 1) , history5.history['val_loss'])\n",
        "plt.title('Mean Absolute Error Over Epochs')\n",
        "plt.ylabel('Mean Absolute Error')\n",
        "plt.xlabel('Epoch')\n",
        "plt.legend(['Train', 'Validation'], loc='center right')\n",
        "plt.show()"
      ],
      "metadata": {
        "id": "oIf8QpmKFQaD"
      },
      "execution_count": null,
      "outputs": []
    },
    {
      "cell_type": "code",
      "source": [
        "np.random.seed(0)\n",
        "tf.random.set_seed(0)\n",
        "\n",
        "model6 = keras.models.Sequential([\n",
        "    keras.layers.SimpleRNN(500, input_shape=[None, 1]),\n",
        "    keras.layers.Dense(1)\n",
        "])\n",
        "\n",
        "callback = keras.callbacks.EarlyStopping(monitor='val_loss', restore_best_weights = True, patience=10)\n",
        "\n",
        "model6.compile(loss=\"mae\", optimizer=\"adam\")\n",
        "history6 = model6.fit(X_train, y_train, epochs=500, callbacks = [callback],\n",
        "                    validation_data=(X_val, y_val))"
      ],
      "metadata": {
        "id": "lVpk5Yh6xw8u"
      },
      "execution_count": null,
      "outputs": []
    },
    {
      "cell_type": "code",
      "source": [
        "plt.plot(range(1,len(history6.history['loss']) + 1), history6.history['loss'])\n",
        "plt.plot(range(1, len(history6.history['loss']) + 1) , history6.history['val_loss'])\n",
        "plt.title('Mean Absolute Error Over Epochs')\n",
        "plt.ylabel('Mean Absolute Error')\n",
        "plt.xlabel('Epoch')\n",
        "plt.legend(['Train', 'Validation'], loc='center right')\n",
        "plt.show()"
      ],
      "metadata": {
        "id": "B7ebYTqcE8cE"
      },
      "execution_count": null,
      "outputs": []
    },
    {
      "cell_type": "code",
      "source": [
        "models = [model1, model2, model3, model4, model5, model6]\n",
        "maes_train = []\n",
        "maes_val = []\n",
        "\n",
        "for model in models:\n",
        "  preds_train = model.predict(X_train)\n",
        "  preds_val = model.predict(X_val)\n",
        "  maes_train.append(np.mean(abs(preds_train[:,0] - y_train)))\n",
        "  maes_val.append(np.mean(abs(preds_val[:,0] - y_val)))"
      ],
      "metadata": {
        "id": "FOGdf9JsUME5"
      },
      "execution_count": null,
      "outputs": []
    },
    {
      "cell_type": "code",
      "source": [
        "units = [10,20,50,100,200,500]\n",
        "\n",
        "plt.plot(units, maes_train)\n",
        "plt.plot(units , maes_val)\n",
        "plt.title('Mean Absolute Error vs RNN Units')\n",
        "plt.ylabel('Mean Absolute Error')\n",
        "plt.xlabel('RNN Units')\n",
        "plt.legend(['Train', 'Validation'], loc='upper right')\n",
        "plt.show()"
      ],
      "metadata": {
        "id": "1kATA5qySXfF"
      },
      "execution_count": null,
      "outputs": []
    },
    {
      "cell_type": "code",
      "source": [
        "maes_val"
      ],
      "metadata": {
        "id": "4ZOHBV2BVbgx"
      },
      "execution_count": null,
      "outputs": []
    },
    {
      "cell_type": "code",
      "source": [
        "model6.summary()"
      ],
      "metadata": {
        "id": "OuO5Qskeajy3"
      },
      "execution_count": null,
      "outputs": []
    },
    {
      "cell_type": "markdown",
      "source": [
        "|Units|Mean Absolute Error (Validation)|\n",
        "|:----|:--------:|\n",
        "|10|6.161|\n",
        "|20|5.119|\n",
        "|50|5.332|\n",
        "|100|4.635|\n",
        "|200|4.706|\n",
        "|500|4.531|"
      ],
      "metadata": {
        "id": "8iQji7JVDBis"
      }
    },
    {
      "cell_type": "markdown",
      "source": [],
      "metadata": {
        "id": "3bsBfsCaDB8U"
      }
    },
    {
      "cell_type": "markdown",
      "source": [
        "Debatle how many units to use as not much variation in validation error between 100, 200 and 500 RNN units (largest three models). Could use 100 but will use 500."
      ],
      "metadata": {
        "id": "ylCTCo58GT3u"
      }
    },
    {
      "cell_type": "code",
      "source": [
        "preds = model6.predict(X_test)\n",
        "np.mean(abs(preds[:,0] - y_test))"
      ],
      "metadata": {
        "id": "54uGil6TWSuV"
      },
      "execution_count": null,
      "outputs": []
    },
    {
      "cell_type": "code",
      "source": [
        "np.mean(preds[:,0] - y_test)"
      ],
      "metadata": {
        "id": "Fjwg-f-NFX3N"
      },
      "execution_count": null,
      "outputs": []
    },
    {
      "cell_type": "markdown",
      "source": [
        "# Method 2 Hyperparameter Tuning"
      ],
      "metadata": {
        "id": "5YgdmgUhJH1w"
      }
    },
    {
      "cell_type": "code",
      "source": [
        "np.random.seed(0)\n",
        "tf.random.set_seed(0)\n",
        "\n",
        "model7 = keras.models.Sequential([\n",
        "    keras.layers.SimpleRNN(10, input_shape=[None, 1]),\n",
        "    keras.layers.Dense(1)\n",
        "])\n",
        "\n",
        "callback = keras.callbacks.EarlyStopping(monitor='val_loss', restore_best_weights = True, patience=10)\n",
        "\n",
        "model7.compile(loss=\"mae\", optimizer=\"adam\")\n",
        "history7 = model7.fit(X[:,:7], X[:,7], epochs=500, callbacks = [callback],\n",
        "                    validation_data=(X[:,:8], X[:,8]))"
      ],
      "metadata": {
        "id": "XR2CME7aHftv"
      },
      "execution_count": null,
      "outputs": []
    },
    {
      "cell_type": "code",
      "source": [
        "plt.plot(range(1,len(history7.history['loss']) + 1), history7.history['loss'])\n",
        "plt.plot(range(1, len(history7.history['loss']) + 1) , history7.history['val_loss'])\n",
        "plt.title('Mean Absolute Error Over Epochs')\n",
        "plt.ylabel('Mean Absolute Error')\n",
        "plt.xlabel('Epoch')\n",
        "plt.legend(['Train', 'Validation'], loc='center right')\n",
        "plt.show()"
      ],
      "metadata": {
        "id": "pywPrWyAJDM1"
      },
      "execution_count": null,
      "outputs": []
    },
    {
      "cell_type": "code",
      "source": [
        "np.random.seed(0)\n",
        "tf.random.set_seed(0)\n",
        "\n",
        "model8 = keras.models.Sequential([\n",
        "    keras.layers.SimpleRNN(20, input_shape=[None, 1]),\n",
        "    keras.layers.Dense(1)\n",
        "])\n",
        "\n",
        "callback = keras.callbacks.EarlyStopping(monitor='val_loss', restore_best_weights = True, patience=10)\n",
        "\n",
        "model8.compile(loss=\"mae\", optimizer=\"adam\")\n",
        "history8 = model8.fit(X[:,:7], X[:,7], epochs=500, callbacks = [callback],\n",
        "                    validation_data=(X[:,:8], X[:,8]))"
      ],
      "metadata": {
        "id": "rhXmCR-uDhS7"
      },
      "execution_count": null,
      "outputs": []
    },
    {
      "cell_type": "code",
      "source": [
        "plt.plot(range(1,len(history8.history['loss']) + 1), history8.history['loss'])\n",
        "plt.plot(range(1, len(history8.history['loss']) + 1) , history8.history['val_loss'])\n",
        "plt.title('Mean Absolute Error Over Epochs')\n",
        "plt.ylabel('Mean Absolute Error')\n",
        "plt.xlabel('Epoch')\n",
        "plt.legend(['Train', 'Validation'], loc='center right')\n",
        "plt.show()"
      ],
      "metadata": {
        "id": "XAfA-lOdJPBS"
      },
      "execution_count": null,
      "outputs": []
    },
    {
      "cell_type": "code",
      "source": [
        "np.random.seed(0)\n",
        "tf.random.set_seed(0)\n",
        "\n",
        "model9 = keras.models.Sequential([\n",
        "    keras.layers.SimpleRNN(50, input_shape=[None, 1]),\n",
        "    keras.layers.Dense(1)\n",
        "])\n",
        "\n",
        "callback = keras.callbacks.EarlyStopping(monitor='val_loss', restore_best_weights = True, patience=10)\n",
        "\n",
        "model9.compile(loss=\"mae\", optimizer=\"adam\")\n",
        "history9 = model9.fit(X[:,:7], X[:,7], epochs=500, callbacks = [callback],\n",
        "                    validation_data=(X[:,:8], X[:,8]))"
      ],
      "metadata": {
        "id": "StQTit-ayis1"
      },
      "execution_count": null,
      "outputs": []
    },
    {
      "cell_type": "code",
      "source": [
        "plt.plot(range(1,len(history9.history['loss']) + 1), history9.history['loss'])\n",
        "plt.plot(range(1, len(history9.history['loss']) + 1) , history9.history['val_loss'])\n",
        "plt.title('Mean Absolute Error Over Epochs')\n",
        "plt.ylabel('Mean Absolute Error')\n",
        "plt.xlabel('Epoch')\n",
        "plt.legend(['Train', 'Validation'], loc='center right')\n",
        "plt.show()"
      ],
      "metadata": {
        "id": "QkpWXk7IJx1a"
      },
      "execution_count": null,
      "outputs": []
    },
    {
      "cell_type": "code",
      "source": [
        "np.random.seed(0)\n",
        "tf.random.set_seed(0)\n",
        "\n",
        "model10 = keras.models.Sequential([\n",
        "    keras.layers.SimpleRNN(100, input_shape=[None, 1]),\n",
        "    keras.layers.Dense(1)\n",
        "])\n",
        "\n",
        "callback = keras.callbacks.EarlyStopping(monitor='val_loss', restore_best_weights = True, patience=10)\n",
        "\n",
        "model10.compile(loss=\"mae\", optimizer=\"adam\")\n",
        "history10 = model10.fit(X[:,:7], X[:,7], epochs=500, callbacks = [callback],\n",
        "                    validation_data=(X[:,:8], X[:,8]))"
      ],
      "metadata": {
        "id": "fE7f4qXsy5Ar"
      },
      "execution_count": null,
      "outputs": []
    },
    {
      "cell_type": "code",
      "source": [
        "plt.plot(range(1,len(history10.history['loss']) + 1), history10.history['loss'])\n",
        "plt.plot(range(1, len(history10.history['loss']) + 1) , history10.history['val_loss'])\n",
        "plt.title('Mean Absolute Error Over Epochs')\n",
        "plt.ylabel('Mean Absolute Error')\n",
        "plt.xlabel('Epoch')\n",
        "plt.legend(['Train', 'Validation'], loc='center right')\n",
        "plt.show()"
      ],
      "metadata": {
        "id": "CgYeS0tGKAXs"
      },
      "execution_count": null,
      "outputs": []
    },
    {
      "cell_type": "code",
      "source": [
        "np.random.seed(0)\n",
        "tf.random.set_seed(0)\n",
        "\n",
        "model11 = keras.models.Sequential([\n",
        "    keras.layers.SimpleRNN(200, input_shape=[None, 1]),\n",
        "    keras.layers.Dense(1)\n",
        "])\n",
        "\n",
        "callback = keras.callbacks.EarlyStopping(monitor='val_loss', restore_best_weights = True, patience=10)\n",
        "\n",
        "model11.compile(loss=\"mae\", optimizer=\"adam\")\n",
        "history11 = model11.fit(X[:,:7], X[:,7], epochs=500, callbacks = [callback],\n",
        "                    validation_data=(X[:,:8], X[:,8]))"
      ],
      "metadata": {
        "id": "OYwN-smvy5FY"
      },
      "execution_count": null,
      "outputs": []
    },
    {
      "cell_type": "code",
      "source": [
        "plt.plot(range(1,len(history11.history['loss']) + 1), history11.history['loss'])\n",
        "plt.plot(range(1, len(history11.history['loss']) + 1) , history11.history['val_loss'])\n",
        "plt.title('Mean Absolute Error Over Epochs')\n",
        "plt.ylabel('Mean Absolute Error')\n",
        "plt.xlabel('Epoch')\n",
        "plt.legend(['Train', 'Validation'], loc='center right')\n",
        "plt.show()"
      ],
      "metadata": {
        "id": "vdzCPAdzKO0k"
      },
      "execution_count": null,
      "outputs": []
    },
    {
      "cell_type": "code",
      "source": [
        "np.random.seed(0)\n",
        "tf.random.set_seed(0)\n",
        "\n",
        "model12 = keras.models.Sequential([\n",
        "    keras.layers.SimpleRNN(500, input_shape=[None, 1]),\n",
        "    keras.layers.Dense(1)\n",
        "])\n",
        "\n",
        "callback = keras.callbacks.EarlyStopping(monitor='val_loss', restore_best_weights = True, patience=10)\n",
        "\n",
        "model12.compile(loss=\"mae\", optimizer=\"adam\")\n",
        "history12 = model12.fit(X[:,:7], X[:,7], epochs=500, callbacks = [callback],\n",
        "                    validation_data=(X[:,:8], X[:,8]))"
      ],
      "metadata": {
        "id": "YBkrKAvG59vt"
      },
      "execution_count": null,
      "outputs": []
    },
    {
      "cell_type": "code",
      "source": [
        "plt.plot(range(1,len(history12.history['loss']) + 1), history12.history['loss'])\n",
        "plt.plot(range(1, len(history12.history['loss']) + 1) , history12.history['val_loss'])\n",
        "plt.title('Mean Absolute Error Over Epochs')\n",
        "plt.ylabel('Mean Absolute Error')\n",
        "plt.xlabel('Epoch')\n",
        "plt.legend(['Train', 'Validation'], loc='upper right')\n",
        "plt.show()"
      ],
      "metadata": {
        "id": "mO2wZHQNKVNy"
      },
      "execution_count": null,
      "outputs": []
    },
    {
      "cell_type": "code",
      "source": [
        "models = [model7, model8, model9, model10, model11, model12]\n",
        "maes_train = []\n",
        "maes_val = []\n",
        "\n",
        "for model in models:\n",
        "  preds_train = model.predict(X[:,:7])\n",
        "  preds_val = model.predict(X[:,:8])\n",
        "  maes_train.append(np.mean(abs(preds_train[:,0] - X[:,7])))\n",
        "  maes_val.append(np.mean(abs(preds_val[:,0] - X[:,8])))"
      ],
      "metadata": {
        "id": "4zYSLrMBS7qB"
      },
      "execution_count": null,
      "outputs": []
    },
    {
      "cell_type": "code",
      "source": [
        "X[:,7].shape"
      ],
      "metadata": {
        "id": "s3BPwfGbYRhD"
      },
      "execution_count": null,
      "outputs": []
    },
    {
      "cell_type": "markdown",
      "source": [],
      "metadata": {
        "id": "oMF2ZhgBziYW"
      }
    },
    {
      "cell_type": "markdown",
      "source": [
        "\n",
        "\n",
        "\n",
        "Now try from 1000 to 10000 to 100000 and see if anything changes between methods."
      ],
      "metadata": {
        "id": "-e6n_OJzHRgs"
      }
    },
    {
      "cell_type": "code",
      "source": [
        "units = [10,20,50,100,200,500]\n",
        "\n",
        "plt.plot(units, maes_train)\n",
        "plt.plot(units , maes_val)\n",
        "plt.title('Mean Absolute Error vs RNN Units')\n",
        "plt.ylabel('Mean Absolute Error')\n",
        "plt.xlabel('RNN Units')\n",
        "plt.legend(['Train', 'Validation'], loc='upper right')\n",
        "plt.show()"
      ],
      "metadata": {
        "id": "t0HIav596rlK"
      },
      "execution_count": null,
      "outputs": []
    },
    {
      "cell_type": "code",
      "source": [
        "maes_val"
      ],
      "metadata": {
        "id": "LXF00F5hYpdN"
      },
      "execution_count": null,
      "outputs": []
    },
    {
      "cell_type": "markdown",
      "source": [
        "|Units|Mean Absolute Error (Validation)|\n",
        "|:----|:--------:|\n",
        "|10|5.396|\n",
        "|20|5.199|\n",
        "|50|4.901|\n",
        "|100|4.661|\n",
        "|200|4.921|\n",
        "|500|4.556|"
      ],
      "metadata": {
        "id": "ewDcfgMVCifG"
      }
    },
    {
      "cell_type": "code",
      "source": [
        "preds = model12.predict(X_test)\n",
        "np.mean(abs(preds[:,0] - y_test))"
      ],
      "metadata": {
        "id": "No47oCemYz77"
      },
      "execution_count": null,
      "outputs": []
    },
    {
      "cell_type": "code",
      "source": [
        "np.mean(preds[:,0] - y_test)"
      ],
      "metadata": {
        "id": "84gxsdO7Eq-3"
      },
      "execution_count": null,
      "outputs": []
    },
    {
      "cell_type": "code",
      "source": [
        "np.mean(abs(X_test[:,-1] - y_test))"
      ],
      "metadata": {
        "id": "gHZ8wP8LDuOk"
      },
      "execution_count": null,
      "outputs": []
    },
    {
      "cell_type": "code",
      "source": [
        "np.mean(X_test[:,-1] - y_test)"
      ],
      "metadata": {
        "id": "85wU05l2FDaz"
      },
      "execution_count": null,
      "outputs": []
    },
    {
      "cell_type": "markdown",
      "source": [
        "# Results Summary"
      ],
      "metadata": {
        "id": "65JD4kl7DlGp"
      }
    },
    {
      "cell_type": "markdown",
      "source": [
        "|Method|Mean Absolute Error (Test)|\n",
        "|:----|:--------:|\n",
        "|Benchmark|5.270|\n",
        "|1|3.440|\n",
        "|2|5.444|"
      ],
      "metadata": {
        "id": "hB-XAOJNDfW2"
      }
    },
    {
      "cell_type": "markdown",
      "source": [
        "The above table is "
      ],
      "metadata": {
        "id": "OC_6YKDApqXJ"
      }
    },
    {
      "cell_type": "markdown",
      "source": [
        "# Conclusion"
      ],
      "metadata": {
        "id": "bb3T75XWLUGu"
      }
    },
    {
      "cell_type": "markdown",
      "source": [
        "Two competing experimental design approaches are considered in determining how to best utilize recurrent neural networks (RNNs) in integer sequence learning using sequences from the Online Encyclopedia of Integer Sequence (OEIS). In particular, predicting specifically the tenth sequence value from the first nine can be achieved by fitting a model on different sequences at the corresponding sequence values or on the same sequences at earlier sequence values. Generalizability is better achieved using the former of these, meaning in this instance the fixed time-step under consideration potentially encodes usable information.\n",
        "\n",
        "Fitting to 10th sequence value leads to better generalizability across sequences. Even with only 1000 sampled sequences.\n",
        "\n",
        "Next step -consider other / larger samples of sequences or  different time-steps. Expand to different data sets.\n"
      ],
      "metadata": {
        "id": "32NPEj_7efev"
      }
    },
    {
      "cell_type": "code",
      "source": [],
      "metadata": {
        "id": "jNKF7b2ULWZs"
      },
      "execution_count": null,
      "outputs": []
    }
  ]
}