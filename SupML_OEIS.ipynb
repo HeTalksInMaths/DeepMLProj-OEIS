{
  "nbformat": 4,
  "nbformat_minor": 0,
  "metadata": {
    "colab": {
      "name": "Supervised Machine Learning Project OEIS",
      "provenance": [],
      "toc_visible": true,
      "collapsed_sections": []
    },
    "kernelspec": {
      "name": "python3",
      "display_name": "Python 3"
    },
    "language_info": {
      "name": "python"
    }
  },
  "cells": [
    {
      "cell_type": "markdown",
      "source": [
        "# Impact of Outliers In Supervised Machine Learning Classifiers "
      ],
      "metadata": {
        "id": "6dGrsyFepZX7"
      }
    },
    {
      "cell_type": "markdown",
      "source": [
        "# Project Overview\n",
        "\n",
        "This project focuses on a classification problem using data from the Online Encyclopedia of Integer Sequences (OEIS) where the task is to predict whether the tenth sequence value of a sequence is larger than the ninth, based on the first nine sequence values. Even though sequence learning type problems usually are handled by recurrent neural networks, deep learning is beyond the scope of this course and benchmark results for this comparatively simpler problem will be determined using other supervised techniques. In particular logistic regression, AdaBoost and XGBoost are utilized. \n",
        "\n",
        "This classification task could potentially be useful for downstream deep learning tasks as training a single model on all sequences from OEIS may not be feasible. The sequence structure may allow for partitioning of sequences and construction of multiple models and the output of an initial classifier can inform how the sequences should be divided for this. \n",
        "\n",
        "The motivation for this project extends beyond achieving optimal model performance.  Additional emphasis is placed on understanding the effect of outliers on logistic regression,  AdaBoost and XGBoost . A larger data set with outliers and a pruned data set will be compared for effectiveness in training these classifiers. Further out-of-distribution generalizability will be studied to understand which of the algorithms fitted on the smaller data are robust to making predictions on the larger data set with outliers. OEIS is a good choice of data set due to many atypical sequences.\n",
        "\n",
        "Imbalanced data is  commonplace in this work and so multiple classification metrics beyond accuracy are considered along with their strengths and weaknesses for this particular data set \n",
        "\n",
        "The github repository link is located here: https://github.com/HeTalksInMaths/SupMLProj-OEIS"
      ],
      "metadata": {
        "id": "Q9sYhk-brhEJ"
      }
    },
    {
      "cell_type": "markdown",
      "source": [
        "# Imports"
      ],
      "metadata": {
        "id": "rOtgDf1dnOHK"
      }
    },
    {
      "cell_type": "code",
      "source": [
        "import numpy as np \n",
        "import pandas as pd \n",
        "import matplotlib.pyplot as plt\n",
        "from matplotlib.pyplot import figure\n",
        "import seaborn as sns\n",
        "\n",
        "from sklearn.model_selection import train_test_split\n",
        "from sklearn.linear_model import LogisticRegression\n",
        "from sklearn.metrics import f1_score, roc_curve, roc_auc_score, confusion_matrix, ConfusionMatrixDisplay\n",
        "from sklearn.ensemble import AdaBoostClassifier\n",
        "from xgboost import XGBClassifier"
      ],
      "metadata": {
        "id": "4gdRgbEtqviR"
      },
      "execution_count": 1,
      "outputs": []
    },
    {
      "cell_type": "markdown",
      "source": [
        "# Loading Data"
      ],
      "metadata": {
        "id": "0o9YRSoJnU1s"
      }
    },
    {
      "cell_type": "markdown",
      "source": [
        "The data comes from the Online Encyclopedia of Integer Sequences https://oeis.org/ (Sloane, 1964). This notebook is self-contained and the data is downloaded from a public Google Drive folder. Files were originally downloaed from https://davidbieber.com/snippets/2020-06-28-oeis-download/ (Bieber, 2020).\n",
        "\n"
      ],
      "metadata": {
        "id": "olpaQh2krQpW"
      }
    },
    {
      "cell_type": "code",
      "execution_count": 2,
      "metadata": {
        "colab": {
          "base_uri": "https://localhost:8080/"
        },
        "id": "HrBkWMkdUagR",
        "outputId": "f113c15d-a1d3-44d2-e65e-57f5a9f79c2b"
      },
      "outputs": [
        {
          "output_type": "stream",
          "name": "stdout",
          "text": [
            "--2022-08-14 13:19:15--  https://docs.google.com/uc?export=download&id=1cD9NbA40x9Nu8k2F7pSr3aKhS0VASfip\n",
            "Resolving docs.google.com (docs.google.com)... 142.250.141.138, 142.250.141.139, 142.250.141.100, ...\n",
            "Connecting to docs.google.com (docs.google.com)|142.250.141.138|:443... connected.\n",
            "HTTP request sent, awaiting response... 303 See Other\n",
            "Location: https://doc-0o-4k-docs.googleusercontent.com/docs/securesc/ha0ro937gcuc7l7deffksulhg5h7mbp1/fmq1enaqlvlpdmk2g2qkkefd3h6upm54/1660483125000/02208792382482262317/*/1cD9NbA40x9Nu8k2F7pSr3aKhS0VASfip?e=download&uuid=1268fce8-d414-4ccf-b3cb-6fe19fa88e48 [following]\n",
            "Warning: wildcards not supported in HTTP.\n",
            "--2022-08-14 13:19:17--  https://doc-0o-4k-docs.googleusercontent.com/docs/securesc/ha0ro937gcuc7l7deffksulhg5h7mbp1/fmq1enaqlvlpdmk2g2qkkefd3h6upm54/1660483125000/02208792382482262317/*/1cD9NbA40x9Nu8k2F7pSr3aKhS0VASfip?e=download&uuid=1268fce8-d414-4ccf-b3cb-6fe19fa88e48\n",
            "Resolving doc-0o-4k-docs.googleusercontent.com (doc-0o-4k-docs.googleusercontent.com)... 142.251.2.132, 2607:f8b0:4023:c0d::84\n",
            "Connecting to doc-0o-4k-docs.googleusercontent.com (doc-0o-4k-docs.googleusercontent.com)|142.251.2.132|:443... connected.\n",
            "HTTP request sent, awaiting response... 200 OK\n",
            "Length: 70565846 (67M) [text/csv]\n",
            "Saving to: ‘oeisvals.csv’\n",
            "\n",
            "oeisvals.csv        100%[===================>]  67.30M   295MB/s    in 0.2s    \n",
            "\n",
            "2022-08-14 13:19:18 (295 MB/s) - ‘oeisvals.csv’ saved [70565846/70565846]\n",
            "\n"
          ]
        }
      ],
      "source": [
        "fileid='1cD9NbA40x9Nu8k2F7pSr3aKhS0VASfip'\n",
        "filename='oeisvals.csv'\n",
        "\n",
        "!wget -O $filename 'https://docs.google.com/uc?export=download&id='$fileid\n"
      ]
    },
    {
      "cell_type": "markdown",
      "source": [
        "The first ten values for each sequence are extracted from the full dataset for our purposes.\n"
      ],
      "metadata": {
        "id": "jrHjFHG3sI6G"
      }
    },
    {
      "cell_type": "code",
      "source": [
        "dfseq = pd.read_csv('/content/oeisvals.csv', header=None, skiprows=4, usecols=range(11), \n",
        "                    names=[\"Sequence\", '1', '2', '3', '4', '5', '6', '7', '8', '9', '10'])\n",
        "\n",
        "for c in dfseq.columns[1:]:\n",
        "  dfseq[c] = pd.to_numeric(dfseq[c], errors='coerce', downcast=\"integer\")"
      ],
      "metadata": {
        "colab": {
          "base_uri": "https://localhost:8080/"
        },
        "id": "F37tOZSXtfMf",
        "outputId": "6d9c81aa-84be-4b10-e70c-5b36adf6a3c8"
      },
      "execution_count": 3,
      "outputs": [
        {
          "output_type": "stream",
          "name": "stderr",
          "text": [
            "/usr/local/lib/python3.7/dist-packages/IPython/core/interactiveshell.py:2882: DtypeWarning: Columns (1,2) have mixed types.Specify dtype option on import or set low_memory=False.\n",
            "  exec(code_obj, self.user_global_ns, self.user_ns)\n"
          ]
        }
      ]
    },
    {
      "cell_type": "code",
      "source": [
        "dfseq.head()"
      ],
      "metadata": {
        "colab": {
          "base_uri": "https://localhost:8080/",
          "height": 206
        },
        "id": "L5RqZ8D5UhEE",
        "outputId": "1c68a583-1753-4dde-8334-9b900dbcf9ed"
      },
      "execution_count": 4,
      "outputs": [
        {
          "output_type": "execute_result",
          "data": {
            "text/plain": [
              "   Sequence    1    2    3    4    5    6    7    8    9   10\n",
              "0  A000001   0.0  1.0  1.0  1.0  2.0  1.0  2.0  1.0  5.0  2.0\n",
              "1  A000002   1.0  2.0  2.0  1.0  1.0  2.0  1.0  2.0  2.0  1.0\n",
              "2  A000003   1.0  1.0  1.0  1.0  2.0  2.0  1.0  2.0  2.0  2.0\n",
              "3  A000004   0.0  0.0  0.0  0.0  0.0  0.0  0.0  0.0  0.0  0.0\n",
              "4  A000005   1.0  2.0  2.0  3.0  2.0  4.0  2.0  4.0  3.0  4.0"
            ],
            "text/html": [
              "\n",
              "  <div id=\"df-127f1a9e-6533-4107-9dac-1d74c7dd5a95\">\n",
              "    <div class=\"colab-df-container\">\n",
              "      <div>\n",
              "<style scoped>\n",
              "    .dataframe tbody tr th:only-of-type {\n",
              "        vertical-align: middle;\n",
              "    }\n",
              "\n",
              "    .dataframe tbody tr th {\n",
              "        vertical-align: top;\n",
              "    }\n",
              "\n",
              "    .dataframe thead th {\n",
              "        text-align: right;\n",
              "    }\n",
              "</style>\n",
              "<table border=\"1\" class=\"dataframe\">\n",
              "  <thead>\n",
              "    <tr style=\"text-align: right;\">\n",
              "      <th></th>\n",
              "      <th>Sequence</th>\n",
              "      <th>1</th>\n",
              "      <th>2</th>\n",
              "      <th>3</th>\n",
              "      <th>4</th>\n",
              "      <th>5</th>\n",
              "      <th>6</th>\n",
              "      <th>7</th>\n",
              "      <th>8</th>\n",
              "      <th>9</th>\n",
              "      <th>10</th>\n",
              "    </tr>\n",
              "  </thead>\n",
              "  <tbody>\n",
              "    <tr>\n",
              "      <th>0</th>\n",
              "      <td>A000001</td>\n",
              "      <td>0.0</td>\n",
              "      <td>1.0</td>\n",
              "      <td>1.0</td>\n",
              "      <td>1.0</td>\n",
              "      <td>2.0</td>\n",
              "      <td>1.0</td>\n",
              "      <td>2.0</td>\n",
              "      <td>1.0</td>\n",
              "      <td>5.0</td>\n",
              "      <td>2.0</td>\n",
              "    </tr>\n",
              "    <tr>\n",
              "      <th>1</th>\n",
              "      <td>A000002</td>\n",
              "      <td>1.0</td>\n",
              "      <td>2.0</td>\n",
              "      <td>2.0</td>\n",
              "      <td>1.0</td>\n",
              "      <td>1.0</td>\n",
              "      <td>2.0</td>\n",
              "      <td>1.0</td>\n",
              "      <td>2.0</td>\n",
              "      <td>2.0</td>\n",
              "      <td>1.0</td>\n",
              "    </tr>\n",
              "    <tr>\n",
              "      <th>2</th>\n",
              "      <td>A000003</td>\n",
              "      <td>1.0</td>\n",
              "      <td>1.0</td>\n",
              "      <td>1.0</td>\n",
              "      <td>1.0</td>\n",
              "      <td>2.0</td>\n",
              "      <td>2.0</td>\n",
              "      <td>1.0</td>\n",
              "      <td>2.0</td>\n",
              "      <td>2.0</td>\n",
              "      <td>2.0</td>\n",
              "    </tr>\n",
              "    <tr>\n",
              "      <th>3</th>\n",
              "      <td>A000004</td>\n",
              "      <td>0.0</td>\n",
              "      <td>0.0</td>\n",
              "      <td>0.0</td>\n",
              "      <td>0.0</td>\n",
              "      <td>0.0</td>\n",
              "      <td>0.0</td>\n",
              "      <td>0.0</td>\n",
              "      <td>0.0</td>\n",
              "      <td>0.0</td>\n",
              "      <td>0.0</td>\n",
              "    </tr>\n",
              "    <tr>\n",
              "      <th>4</th>\n",
              "      <td>A000005</td>\n",
              "      <td>1.0</td>\n",
              "      <td>2.0</td>\n",
              "      <td>2.0</td>\n",
              "      <td>3.0</td>\n",
              "      <td>2.0</td>\n",
              "      <td>4.0</td>\n",
              "      <td>2.0</td>\n",
              "      <td>4.0</td>\n",
              "      <td>3.0</td>\n",
              "      <td>4.0</td>\n",
              "    </tr>\n",
              "  </tbody>\n",
              "</table>\n",
              "</div>\n",
              "      <button class=\"colab-df-convert\" onclick=\"convertToInteractive('df-127f1a9e-6533-4107-9dac-1d74c7dd5a95')\"\n",
              "              title=\"Convert this dataframe to an interactive table.\"\n",
              "              style=\"display:none;\">\n",
              "        \n",
              "  <svg xmlns=\"http://www.w3.org/2000/svg\" height=\"24px\"viewBox=\"0 0 24 24\"\n",
              "       width=\"24px\">\n",
              "    <path d=\"M0 0h24v24H0V0z\" fill=\"none\"/>\n",
              "    <path d=\"M18.56 5.44l.94 2.06.94-2.06 2.06-.94-2.06-.94-.94-2.06-.94 2.06-2.06.94zm-11 1L8.5 8.5l.94-2.06 2.06-.94-2.06-.94L8.5 2.5l-.94 2.06-2.06.94zm10 10l.94 2.06.94-2.06 2.06-.94-2.06-.94-.94-2.06-.94 2.06-2.06.94z\"/><path d=\"M17.41 7.96l-1.37-1.37c-.4-.4-.92-.59-1.43-.59-.52 0-1.04.2-1.43.59L10.3 9.45l-7.72 7.72c-.78.78-.78 2.05 0 2.83L4 21.41c.39.39.9.59 1.41.59.51 0 1.02-.2 1.41-.59l7.78-7.78 2.81-2.81c.8-.78.8-2.07 0-2.86zM5.41 20L4 18.59l7.72-7.72 1.47 1.35L5.41 20z\"/>\n",
              "  </svg>\n",
              "      </button>\n",
              "      \n",
              "  <style>\n",
              "    .colab-df-container {\n",
              "      display:flex;\n",
              "      flex-wrap:wrap;\n",
              "      gap: 12px;\n",
              "    }\n",
              "\n",
              "    .colab-df-convert {\n",
              "      background-color: #E8F0FE;\n",
              "      border: none;\n",
              "      border-radius: 50%;\n",
              "      cursor: pointer;\n",
              "      display: none;\n",
              "      fill: #1967D2;\n",
              "      height: 32px;\n",
              "      padding: 0 0 0 0;\n",
              "      width: 32px;\n",
              "    }\n",
              "\n",
              "    .colab-df-convert:hover {\n",
              "      background-color: #E2EBFA;\n",
              "      box-shadow: 0px 1px 2px rgba(60, 64, 67, 0.3), 0px 1px 3px 1px rgba(60, 64, 67, 0.15);\n",
              "      fill: #174EA6;\n",
              "    }\n",
              "\n",
              "    [theme=dark] .colab-df-convert {\n",
              "      background-color: #3B4455;\n",
              "      fill: #D2E3FC;\n",
              "    }\n",
              "\n",
              "    [theme=dark] .colab-df-convert:hover {\n",
              "      background-color: #434B5C;\n",
              "      box-shadow: 0px 1px 3px 1px rgba(0, 0, 0, 0.15);\n",
              "      filter: drop-shadow(0px 1px 2px rgba(0, 0, 0, 0.3));\n",
              "      fill: #FFFFFF;\n",
              "    }\n",
              "  </style>\n",
              "\n",
              "      <script>\n",
              "        const buttonEl =\n",
              "          document.querySelector('#df-127f1a9e-6533-4107-9dac-1d74c7dd5a95 button.colab-df-convert');\n",
              "        buttonEl.style.display =\n",
              "          google.colab.kernel.accessAllowed ? 'block' : 'none';\n",
              "\n",
              "        async function convertToInteractive(key) {\n",
              "          const element = document.querySelector('#df-127f1a9e-6533-4107-9dac-1d74c7dd5a95');\n",
              "          const dataTable =\n",
              "            await google.colab.kernel.invokeFunction('convertToInteractive',\n",
              "                                                     [key], {});\n",
              "          if (!dataTable) return;\n",
              "\n",
              "          const docLinkHtml = 'Like what you see? Visit the ' +\n",
              "            '<a target=\"_blank\" href=https://colab.research.google.com/notebooks/data_table.ipynb>data table notebook</a>'\n",
              "            + ' to learn more about interactive tables.';\n",
              "          element.innerHTML = '';\n",
              "          dataTable['output_type'] = 'display_data';\n",
              "          await google.colab.output.renderOutput(dataTable, element);\n",
              "          const docLink = document.createElement('div');\n",
              "          docLink.innerHTML = docLinkHtml;\n",
              "          element.appendChild(docLink);\n",
              "        }\n",
              "      </script>\n",
              "    </div>\n",
              "  </div>\n",
              "  "
            ]
          },
          "metadata": {},
          "execution_count": 4
        }
      ]
    },
    {
      "cell_type": "markdown",
      "source": [
        "To convert the data for our problem specification, the 2nd to 10th columns are our features with whether the value in the 11th column is larger than the 10th is our target we are aiming to predict.\n",
        "\n",
        "The code below converts the above to the needed format."
      ],
      "metadata": {
        "id": "eKqwKk_iggGO"
      }
    },
    {
      "cell_type": "code",
      "source": [
        "y = np.where(dfseq['10'] > dfseq['9'], 1, 0) \n",
        "X = dfseq.drop(columns = ['Sequence', '10'])\n",
        "X.head()"
      ],
      "metadata": {
        "colab": {
          "base_uri": "https://localhost:8080/",
          "height": 206
        },
        "id": "V8voJ6WZg3Zv",
        "outputId": "378a2c15-867f-4888-d311-e806168ff894"
      },
      "execution_count": 5,
      "outputs": [
        {
          "output_type": "execute_result",
          "data": {
            "text/plain": [
              "     1    2    3    4    5    6    7    8    9\n",
              "0  0.0  1.0  1.0  1.0  2.0  1.0  2.0  1.0  5.0\n",
              "1  1.0  2.0  2.0  1.0  1.0  2.0  1.0  2.0  2.0\n",
              "2  1.0  1.0  1.0  1.0  2.0  2.0  1.0  2.0  2.0\n",
              "3  0.0  0.0  0.0  0.0  0.0  0.0  0.0  0.0  0.0\n",
              "4  1.0  2.0  2.0  3.0  2.0  4.0  2.0  4.0  3.0"
            ],
            "text/html": [
              "\n",
              "  <div id=\"df-72e4f1c3-c106-4337-a313-fd60a597b544\">\n",
              "    <div class=\"colab-df-container\">\n",
              "      <div>\n",
              "<style scoped>\n",
              "    .dataframe tbody tr th:only-of-type {\n",
              "        vertical-align: middle;\n",
              "    }\n",
              "\n",
              "    .dataframe tbody tr th {\n",
              "        vertical-align: top;\n",
              "    }\n",
              "\n",
              "    .dataframe thead th {\n",
              "        text-align: right;\n",
              "    }\n",
              "</style>\n",
              "<table border=\"1\" class=\"dataframe\">\n",
              "  <thead>\n",
              "    <tr style=\"text-align: right;\">\n",
              "      <th></th>\n",
              "      <th>1</th>\n",
              "      <th>2</th>\n",
              "      <th>3</th>\n",
              "      <th>4</th>\n",
              "      <th>5</th>\n",
              "      <th>6</th>\n",
              "      <th>7</th>\n",
              "      <th>8</th>\n",
              "      <th>9</th>\n",
              "    </tr>\n",
              "  </thead>\n",
              "  <tbody>\n",
              "    <tr>\n",
              "      <th>0</th>\n",
              "      <td>0.0</td>\n",
              "      <td>1.0</td>\n",
              "      <td>1.0</td>\n",
              "      <td>1.0</td>\n",
              "      <td>2.0</td>\n",
              "      <td>1.0</td>\n",
              "      <td>2.0</td>\n",
              "      <td>1.0</td>\n",
              "      <td>5.0</td>\n",
              "    </tr>\n",
              "    <tr>\n",
              "      <th>1</th>\n",
              "      <td>1.0</td>\n",
              "      <td>2.0</td>\n",
              "      <td>2.0</td>\n",
              "      <td>1.0</td>\n",
              "      <td>1.0</td>\n",
              "      <td>2.0</td>\n",
              "      <td>1.0</td>\n",
              "      <td>2.0</td>\n",
              "      <td>2.0</td>\n",
              "    </tr>\n",
              "    <tr>\n",
              "      <th>2</th>\n",
              "      <td>1.0</td>\n",
              "      <td>1.0</td>\n",
              "      <td>1.0</td>\n",
              "      <td>1.0</td>\n",
              "      <td>2.0</td>\n",
              "      <td>2.0</td>\n",
              "      <td>1.0</td>\n",
              "      <td>2.0</td>\n",
              "      <td>2.0</td>\n",
              "    </tr>\n",
              "    <tr>\n",
              "      <th>3</th>\n",
              "      <td>0.0</td>\n",
              "      <td>0.0</td>\n",
              "      <td>0.0</td>\n",
              "      <td>0.0</td>\n",
              "      <td>0.0</td>\n",
              "      <td>0.0</td>\n",
              "      <td>0.0</td>\n",
              "      <td>0.0</td>\n",
              "      <td>0.0</td>\n",
              "    </tr>\n",
              "    <tr>\n",
              "      <th>4</th>\n",
              "      <td>1.0</td>\n",
              "      <td>2.0</td>\n",
              "      <td>2.0</td>\n",
              "      <td>3.0</td>\n",
              "      <td>2.0</td>\n",
              "      <td>4.0</td>\n",
              "      <td>2.0</td>\n",
              "      <td>4.0</td>\n",
              "      <td>3.0</td>\n",
              "    </tr>\n",
              "  </tbody>\n",
              "</table>\n",
              "</div>\n",
              "      <button class=\"colab-df-convert\" onclick=\"convertToInteractive('df-72e4f1c3-c106-4337-a313-fd60a597b544')\"\n",
              "              title=\"Convert this dataframe to an interactive table.\"\n",
              "              style=\"display:none;\">\n",
              "        \n",
              "  <svg xmlns=\"http://www.w3.org/2000/svg\" height=\"24px\"viewBox=\"0 0 24 24\"\n",
              "       width=\"24px\">\n",
              "    <path d=\"M0 0h24v24H0V0z\" fill=\"none\"/>\n",
              "    <path d=\"M18.56 5.44l.94 2.06.94-2.06 2.06-.94-2.06-.94-.94-2.06-.94 2.06-2.06.94zm-11 1L8.5 8.5l.94-2.06 2.06-.94-2.06-.94L8.5 2.5l-.94 2.06-2.06.94zm10 10l.94 2.06.94-2.06 2.06-.94-2.06-.94-.94-2.06-.94 2.06-2.06.94z\"/><path d=\"M17.41 7.96l-1.37-1.37c-.4-.4-.92-.59-1.43-.59-.52 0-1.04.2-1.43.59L10.3 9.45l-7.72 7.72c-.78.78-.78 2.05 0 2.83L4 21.41c.39.39.9.59 1.41.59.51 0 1.02-.2 1.41-.59l7.78-7.78 2.81-2.81c.8-.78.8-2.07 0-2.86zM5.41 20L4 18.59l7.72-7.72 1.47 1.35L5.41 20z\"/>\n",
              "  </svg>\n",
              "      </button>\n",
              "      \n",
              "  <style>\n",
              "    .colab-df-container {\n",
              "      display:flex;\n",
              "      flex-wrap:wrap;\n",
              "      gap: 12px;\n",
              "    }\n",
              "\n",
              "    .colab-df-convert {\n",
              "      background-color: #E8F0FE;\n",
              "      border: none;\n",
              "      border-radius: 50%;\n",
              "      cursor: pointer;\n",
              "      display: none;\n",
              "      fill: #1967D2;\n",
              "      height: 32px;\n",
              "      padding: 0 0 0 0;\n",
              "      width: 32px;\n",
              "    }\n",
              "\n",
              "    .colab-df-convert:hover {\n",
              "      background-color: #E2EBFA;\n",
              "      box-shadow: 0px 1px 2px rgba(60, 64, 67, 0.3), 0px 1px 3px 1px rgba(60, 64, 67, 0.15);\n",
              "      fill: #174EA6;\n",
              "    }\n",
              "\n",
              "    [theme=dark] .colab-df-convert {\n",
              "      background-color: #3B4455;\n",
              "      fill: #D2E3FC;\n",
              "    }\n",
              "\n",
              "    [theme=dark] .colab-df-convert:hover {\n",
              "      background-color: #434B5C;\n",
              "      box-shadow: 0px 1px 3px 1px rgba(0, 0, 0, 0.15);\n",
              "      filter: drop-shadow(0px 1px 2px rgba(0, 0, 0, 0.3));\n",
              "      fill: #FFFFFF;\n",
              "    }\n",
              "  </style>\n",
              "\n",
              "      <script>\n",
              "        const buttonEl =\n",
              "          document.querySelector('#df-72e4f1c3-c106-4337-a313-fd60a597b544 button.colab-df-convert');\n",
              "        buttonEl.style.display =\n",
              "          google.colab.kernel.accessAllowed ? 'block' : 'none';\n",
              "\n",
              "        async function convertToInteractive(key) {\n",
              "          const element = document.querySelector('#df-72e4f1c3-c106-4337-a313-fd60a597b544');\n",
              "          const dataTable =\n",
              "            await google.colab.kernel.invokeFunction('convertToInteractive',\n",
              "                                                     [key], {});\n",
              "          if (!dataTable) return;\n",
              "\n",
              "          const docLinkHtml = 'Like what you see? Visit the ' +\n",
              "            '<a target=\"_blank\" href=https://colab.research.google.com/notebooks/data_table.ipynb>data table notebook</a>'\n",
              "            + ' to learn more about interactive tables.';\n",
              "          element.innerHTML = '';\n",
              "          dataTable['output_type'] = 'display_data';\n",
              "          await google.colab.output.renderOutput(dataTable, element);\n",
              "          const docLink = document.createElement('div');\n",
              "          docLink.innerHTML = docLinkHtml;\n",
              "          element.appendChild(docLink);\n",
              "        }\n",
              "      </script>\n",
              "    </div>\n",
              "  </div>\n",
              "  "
            ]
          },
          "metadata": {},
          "execution_count": 5
        }
      ]
    },
    {
      "cell_type": "code",
      "source": [
        "y[:5]"
      ],
      "metadata": {
        "colab": {
          "base_uri": "https://localhost:8080/"
        },
        "id": "PHBjSD56g7R-",
        "outputId": "803e0be8-5aa9-4c9d-e775-ef3e5cb4a725"
      },
      "execution_count": 6,
      "outputs": [
        {
          "output_type": "execute_result",
          "data": {
            "text/plain": [
              "array([0, 0, 0, 0, 1])"
            ]
          },
          "metadata": {},
          "execution_count": 6
        }
      ]
    },
    {
      "cell_type": "markdown",
      "source": [
        "Note the 10th sequence value is larger than the 9th only in the 5th sequence of the first five as seen in dfseq.head()."
      ],
      "metadata": {
        "id": "PH3A-P2uHu72"
      }
    },
    {
      "cell_type": "markdown",
      "source": [
        "# Initial Exploratory Data Analysis (EDA)"
      ],
      "metadata": {
        "id": "p9ExB1yloHmV"
      }
    },
    {
      "cell_type": "code",
      "source": [
        "X.shape"
      ],
      "metadata": {
        "colab": {
          "base_uri": "https://localhost:8080/"
        },
        "id": "JyD_kOKcL2wI",
        "outputId": "95e0c781-cde4-4920-e25f-f97c932628af"
      },
      "execution_count": 7,
      "outputs": [
        {
          "output_type": "execute_result",
          "data": {
            "text/plain": [
              "(351519, 9)"
            ]
          },
          "metadata": {},
          "execution_count": 7
        }
      ]
    },
    {
      "cell_type": "markdown",
      "source": [
        "There are over 350,000 integer sequences but not some may not have ten sequence values. These are dropped from the data. Note that the corresponding target values also need to be dropped."
      ],
      "metadata": {
        "id": "iTVCnT3Ds629"
      }
    },
    {
      "cell_type": "code",
      "source": [
        "flag = np.array(~(X.isnull().any(axis=1)).values)\n",
        "X = X[flag]\n",
        "y = y[flag]\n",
        "X.shape"
      ],
      "metadata": {
        "colab": {
          "base_uri": "https://localhost:8080/"
        },
        "id": "YLiRdosZCSK9",
        "outputId": "bbe20557-045d-4b0d-c31a-260fda005068"
      },
      "execution_count": 8,
      "outputs": [
        {
          "output_type": "execute_result",
          "data": {
            "text/plain": [
              "(335109, 9)"
            ]
          },
          "metadata": {},
          "execution_count": 8
        }
      ]
    },
    {
      "cell_type": "code",
      "source": [
        "y.shape"
      ],
      "metadata": {
        "colab": {
          "base_uri": "https://localhost:8080/"
        },
        "id": "YJMBAMCcDDvo",
        "outputId": "3d7d210b-08a6-418e-f180-84ab09587cf0"
      },
      "execution_count": 9,
      "outputs": [
        {
          "output_type": "execute_result",
          "data": {
            "text/plain": [
              "(335109,)"
            ]
          },
          "metadata": {},
          "execution_count": 9
        }
      ]
    },
    {
      "cell_type": "markdown",
      "source": [
        "Now there are 330,000 sequences however further reduction of the data set will be needed. \n",
        " \n",
        "Recall in logistic regression predicted probabilities are determined by $\\sigma(X) = \\frac{1}{1 + e^{-\\beta \\cdot X}}$ where $X$ comes from the data and $\\beta$ are the learned weights. Outliers may unduly impact weight updates during the optimization algorithm for logistic regression.\n",
        " \n",
        "We inspect the maximum, mean and median values. Normally a boxplot could be used to highlight the distribution but extreme outliers make obtaining a meaningful visualization difficult.\n"
      ],
      "metadata": {
        "id": "EoKUwY5qYfed"
      }
    },
    {
      "cell_type": "code",
      "source": [
        "np.max(X, axis = 0)"
      ],
      "metadata": {
        "colab": {
          "base_uri": "https://localhost:8080/"
        },
        "id": "EJh09yw5OWZ8",
        "outputId": "263301f4-bede-4f81-e8cb-a38336ba41a1"
      },
      "execution_count": 10,
      "outputs": [
        {
          "output_type": "execute_result",
          "data": {
            "text/plain": [
              "1    1.111111e+127\n",
              "2     3.402824e+38\n",
              "3     1.000000e+63\n",
              "4     2.975857e+79\n",
              "5    9.046413e+110\n",
              "6     1.111111e+86\n",
              "7    2.222222e+205\n",
              "8    1.307539e+167\n",
              "9    1.341785e+154\n",
              "dtype: float64"
            ]
          },
          "metadata": {},
          "execution_count": 10
        }
      ]
    },
    {
      "cell_type": "code",
      "source": [
        "np.mean(X, axis = 0)"
      ],
      "metadata": {
        "colab": {
          "base_uri": "https://localhost:8080/"
        },
        "id": "PGfnaML7jcy5",
        "outputId": "4e37b2cf-bb02-4a35-eb56-0edf72120463"
      },
      "execution_count": 11,
      "outputs": [
        {
          "output_type": "execute_result",
          "data": {
            "text/plain": [
              "1    3.684079e+121\n",
              "2     1.015497e+33\n",
              "3     5.968207e+57\n",
              "4     8.880964e+73\n",
              "5    2.699543e+105\n",
              "6     3.315671e+80\n",
              "7    6.631342e+199\n",
              "8    3.901832e+161\n",
              "9    4.005770e+148\n",
              "dtype: float64"
            ]
          },
          "metadata": {},
          "execution_count": 11
        }
      ]
    },
    {
      "cell_type": "code",
      "source": [
        "np.median(X, axis=0)"
      ],
      "metadata": {
        "colab": {
          "base_uri": "https://localhost:8080/"
        },
        "id": "SiIK6kwdQUUY",
        "outputId": "2eb3774a-81da-45e1-c4d2-47e1fe2523f4"
      },
      "execution_count": 12,
      "outputs": [
        {
          "output_type": "execute_result",
          "data": {
            "text/plain": [
              "array([  1.,   3.,   7.,  12.,  22.,  35.,  59.,  89., 128.])"
            ]
          },
          "metadata": {},
          "execution_count": 12
        }
      ]
    },
    {
      "cell_type": "markdown",
      "source": [
        "As can be seen, large outlier values are resulting in means well above the median values. As stated earlier, it is hypothesized that these large values which are outliers will impact the optimization algorithm used for logistic regression. \n",
        "\n",
        "Floating point errors in training with such large numbers but even a slightly reduced data set of those sequences only having values between $-10^{10}$ and $10^{10}$ could face issues given the median values. This will be explored below. "
      ],
      "metadata": {
        "id": "qyqZHQsQZue8"
      }
    },
    {
      "cell_type": "code",
      "source": [
        "X_large_ub = X[(X[X.columns] < 1e10).sum(1) > 8] # values are upper bounded first\n",
        "X_large = X_large_ub[(X_large_ub[X_large_ub.columns] > -1e10).sum(1) > 8]\n",
        "y_large = y[(X[X.columns] < 1e10).sum(1) > 8] # corresponding targets determined\n",
        "y_large = y_large[(X_large_ub[X_large_ub.columns] > -1e10).sum(1) > 8]"
      ],
      "metadata": {
        "id": "XX3bA4irZtZr"
      },
      "execution_count": 13,
      "outputs": []
    },
    {
      "cell_type": "code",
      "source": [
        "X_large.shape"
      ],
      "metadata": {
        "colab": {
          "base_uri": "https://localhost:8080/"
        },
        "id": "tU7eQcT_fBg5",
        "outputId": "fbda2d45-1081-485b-98ad-7c4251113036"
      },
      "execution_count": 14,
      "outputs": [
        {
          "output_type": "execute_result",
          "data": {
            "text/plain": [
              "(299957, 9)"
            ]
          },
          "metadata": {},
          "execution_count": 14
        }
      ]
    },
    {
      "cell_type": "code",
      "source": [
        "y_large.shape"
      ],
      "metadata": {
        "colab": {
          "base_uri": "https://localhost:8080/"
        },
        "id": "munEeZiK_4-E",
        "outputId": "d173d17f-9fc9-415e-a08a-f2d9fdbdb039"
      },
      "execution_count": 15,
      "outputs": [
        {
          "output_type": "execute_result",
          "data": {
            "text/plain": [
              "(299957,)"
            ]
          },
          "metadata": {},
          "execution_count": 15
        }
      ]
    },
    {
      "cell_type": "code",
      "source": [
        "len(X_large)/len(X) * 100"
      ],
      "metadata": {
        "colab": {
          "base_uri": "https://localhost:8080/"
        },
        "id": "_04hg0Y-fQLp",
        "outputId": "cd1f73fb-8243-4b77-8df8-1213efe3516d"
      },
      "execution_count": 16,
      "outputs": [
        {
          "output_type": "execute_result",
          "data": {
            "text/plain": [
              "89.51027874512472"
            ]
          },
          "metadata": {},
          "execution_count": 16
        }
      ]
    },
    {
      "cell_type": "markdown",
      "source": [
        "89.5% of the data is retained on this first pass in understanding the impact of outliers. There are less than 300,000 sequences left with the first nine seqeunce values used as features for predcition."
      ],
      "metadata": {
        "id": "nriJUtyGfW6e"
      }
    },
    {
      "cell_type": "code",
      "source": [
        "np.mean(X_large, axis = 0)"
      ],
      "metadata": {
        "colab": {
          "base_uri": "https://localhost:8080/"
        },
        "id": "ZMvITLvIkpdb",
        "outputId": "00174c69-4f80-4b6f-93c2-a81e619ce929"
      },
      "execution_count": 17,
      "outputs": [
        {
          "output_type": "execute_result",
          "data": {
            "text/plain": [
              "1    1.777582e+06\n",
              "2    1.902575e+06\n",
              "3    2.132268e+06\n",
              "4    2.665069e+06\n",
              "5    3.163239e+06\n",
              "6    3.930495e+06\n",
              "7    5.823781e+06\n",
              "8    1.428409e+07\n",
              "9    9.346931e+07\n",
              "dtype: float64"
            ]
          },
          "metadata": {},
          "execution_count": 17
        }
      ]
    },
    {
      "cell_type": "code",
      "source": [
        "np.median(X_large, axis = 0)"
      ],
      "metadata": {
        "colab": {
          "base_uri": "https://localhost:8080/"
        },
        "id": "Ekf47WQ4kphQ",
        "outputId": "d8b03ed5-bb64-470a-ddfd-6a30a0133cc5"
      },
      "execution_count": 18,
      "outputs": [
        {
          "output_type": "execute_result",
          "data": {
            "text/plain": [
              "array([ 1.,  3.,  5.,  9., 16., 24., 33., 48., 64.])"
            ]
          },
          "metadata": {},
          "execution_count": 18
        }
      ]
    },
    {
      "cell_type": "markdown",
      "source": [
        "The right skew is still apparent but we build a logistic regression classifier on this data set. This will eventually be compared to using a substantially reduced data set with values between $-10^{3}$ and $10^{3}$ where further exploratory data analysis will be done."
      ],
      "metadata": {
        "id": "h5gptWxxmqCk"
      }
    },
    {
      "cell_type": "code",
      "source": [
        "np.mean(y_large)"
      ],
      "metadata": {
        "colab": {
          "base_uri": "https://localhost:8080/"
        },
        "id": "qItuL2wKGxGS",
        "outputId": "1f004c2c-f172-4381-dc7f-913686335659"
      },
      "execution_count": 19,
      "outputs": [
        {
          "output_type": "execute_result",
          "data": {
            "text/plain": [
              "0.7631693876122244"
            ]
          },
          "metadata": {},
          "execution_count": 19
        }
      ]
    },
    {
      "cell_type": "markdown",
      "source": [
        "Note the class imbalance which will also inform which metrics are used in evaluation beyond accuracy alone. For this data set many more sequences have 10th sequence value larger than the 9th sequence value."
      ],
      "metadata": {
        "id": "nudvhz88G23A"
      }
    },
    {
      "cell_type": "code",
      "source": [
        "ax = sns.heatmap(X_large.corr(), annot = True, fmt = '.2f', cmap = 'seismic')\n",
        "ax.set_title(\"Correlation Matrix of Sequence Values (Large Data Set)\")\n",
        "ax\n"
      ],
      "metadata": {
        "colab": {
          "base_uri": "https://localhost:8080/",
          "height": 342
        },
        "id": "7oJdgD-OFTH0",
        "outputId": "6d2351cb-2e30-4a07-9bbf-d695fd4a429c"
      },
      "execution_count": 81,
      "outputs": [
        {
          "output_type": "execute_result",
          "data": {
            "text/plain": [
              "<matplotlib.axes._subplots.AxesSubplot at 0x7f9468db87d0>"
            ]
          },
          "metadata": {},
          "execution_count": 81
        },
        {
          "output_type": "display_data",
          "data": {
            "text/plain": [
              "<Figure size 460.8x345.6 with 2 Axes>"
            ],
            "image/png": "[encoded data removed]"
          },
          "metadata": {
            "needs_background": "light"
          }
        }
      ]
    },
    {
      "cell_type": "markdown",
      "source": [
        " \n",
        " \n",
        "Sequence values that are close to one another  in position on the sequence (near the diagonal) are more likely to be correlated, which is expected. By the ninth value, the correlation with the eighth value is considerably less for consecutive positions. Removing sequence values as features is worth considering but if the goal is optimizing solely prediction, it may not be ideal even if coefficients become less interpretable.\n",
        "\n"
      ],
      "metadata": {
        "id": "SNcqJDo7GMHT"
      }
    },
    {
      "cell_type": "markdown",
      "source": [
        "# Logistic Regression Model With Outliers"
      ],
      "metadata": {
        "id": "b2eermJimqLq"
      }
    },
    {
      "cell_type": "markdown",
      "source": [
        "We use 90% of the data for training and make predictions on the remaining 10%. The random state is set for reproducibility. "
      ],
      "metadata": {
        "id": "S4Nq73viA9PQ"
      }
    },
    {
      "cell_type": "code",
      "source": [
        "X_large_train, X_large_test, y_large_train, y_large_test = train_test_split(X_large, y_large, test_size=.1, random_state=0)\n",
        "X_large_train.shape"
      ],
      "metadata": {
        "colab": {
          "base_uri": "https://localhost:8080/"
        },
        "id": "ISEC_iXlGPwl",
        "outputId": "f557ad0f-22e9-4010-b7a9-97acc4774ba8"
      },
      "execution_count": 84,
      "outputs": [
        {
          "output_type": "execute_result",
          "data": {
            "text/plain": [
              "(269961, 9)"
            ]
          },
          "metadata": {},
          "execution_count": 84
        }
      ]
    },
    {
      "cell_type": "code",
      "source": [
        "np.mean(y_large_train)"
      ],
      "metadata": {
        "colab": {
          "base_uri": "https://localhost:8080/"
        },
        "id": "nJ0toykWHCld",
        "outputId": "6e60280d-dcc7-4bf3-d25d-3b7a8a779b09"
      },
      "execution_count": 85,
      "outputs": [
        {
          "output_type": "execute_result",
          "data": {
            "text/plain": [
              "0.7635139890576788"
            ]
          },
          "metadata": {},
          "execution_count": 85
        }
      ]
    },
    {
      "cell_type": "markdown",
      "source": [
        "The training data has a similar class imbalance.\n",
        "\n",
        "The model is constructed with random_state fixed for reproducibility and accuracy is reported on the test set. "
      ],
      "metadata": {
        "id": "6WJr4NN0HJ4t"
      }
    },
    {
      "cell_type": "code",
      "source": [
        "lr = LogisticRegression(random_state = 0) # not fitted so can be reused for different data sets\n",
        "lr.fit(X_large_train, y_large_train)\n",
        "lr_large_acc = lr.score(X_large_test, y_large_test)\n",
        "lr_large_acc"
      ],
      "metadata": {
        "colab": {
          "base_uri": "https://localhost:8080/"
        },
        "id": "LlxkeLdvkyCY",
        "outputId": "3c10fd34-0767-446e-92b8-dd761c53e385"
      },
      "execution_count": 86,
      "outputs": [
        {
          "output_type": "execute_result",
          "data": {
            "text/plain": [
              "0.7587344979330577"
            ]
          },
          "metadata": {},
          "execution_count": 86
        }
      ]
    },
    {
      "cell_type": "code",
      "source": [
        "np.mean(y_large_test)"
      ],
      "metadata": {
        "colab": {
          "base_uri": "https://localhost:8080/"
        },
        "id": "AVh3KwC0nGpH",
        "outputId": "8eb5dd82-d43c-4fdf-ecaa-6b722efee17b"
      },
      "execution_count": 87,
      "outputs": [
        {
          "output_type": "execute_result",
          "data": {
            "text/plain": [
              "0.7600680090678757"
            ]
          },
          "metadata": {},
          "execution_count": 87
        }
      ]
    },
    {
      "cell_type": "markdown",
      "source": [
        "The accuracy is worse than the baseline of predicting every target as 1 (10th sequence value larger than 9th). \n",
        "\n",
        "Adjusting the class weights to balanced is a first attempt to resolve the issue."
      ],
      "metadata": {
        "id": "3NuNR-ktHbOX"
      }
    },
    {
      "cell_type": "code",
      "source": [
        "lr_bal = LogisticRegression(random_state=0, class_weight=\"balanced\") # not fitted so can be reused later\n",
        "lr_bal.fit(X_large_train, y_large_train)\n",
        "lr_large_bal_acc = lr_bal.score(X_large_test, y_large_test)\n",
        "lr_large_bal_acc"
      ],
      "metadata": {
        "colab": {
          "base_uri": "https://localhost:8080/"
        },
        "id": "ARHSpNsEHhut",
        "outputId": "ceb72dac-d189-40de-c26a-e19b1424a62e"
      },
      "execution_count": 88,
      "outputs": [
        {
          "output_type": "execute_result",
          "data": {
            "text/plain": [
              "0.7598013068409121"
            ]
          },
          "metadata": {},
          "execution_count": 88
        }
      ]
    },
    {
      "cell_type": "code",
      "source": [
        "lr_large_preds = lr.predict(X_large_test) \n",
        "lr_large_bal_preds = lr_bal.predict(X_large_test)\n",
        "np.mean(lr_large_preds == lr_large_bal_preds)"
      ],
      "metadata": {
        "colab": {
          "base_uri": "https://localhost:8080/"
        },
        "id": "G3axXvQJrl6-",
        "outputId": "18c473fd-fb6e-4877-ee3d-a1e27e5cd628"
      },
      "execution_count": 89,
      "outputs": [
        {
          "output_type": "execute_result",
          "data": {
            "text/plain": [
              "0.9603947192959061"
            ]
          },
          "metadata": {},
          "execution_count": 89
        }
      ]
    },
    {
      "cell_type": "markdown",
      "source": [
        "The problem persists with similar accuracy that is still below the baseline and the two models agree on their predictions over 96% of the time.\n",
        "\n",
        "With the standard 0.5 threshold for prediction in logistic regression, the number of predicted increasing sequences between the 9th and 10th sequence value is determined."
      ],
      "metadata": {
        "id": "UM_aqWxXI6tT"
      }
    },
    {
      "cell_type": "code",
      "source": [
        "np.mean(lr_large_preds)"
      ],
      "metadata": {
        "colab": {
          "base_uri": "https://localhost:8080/"
        },
        "id": "zyDeESLnkyOy",
        "outputId": "bc2d16cf-428d-4189-fa0f-b67c68e1a3c7"
      },
      "execution_count": 90,
      "outputs": [
        {
          "output_type": "execute_result",
          "data": {
            "text/plain": [
              "0.9095879450593413"
            ]
          },
          "metadata": {},
          "execution_count": 90
        }
      ]
    },
    {
      "cell_type": "markdown",
      "source": [
        " \n",
        "Almost 91% of sequences in training are predicted as increasing between the 9th and 10th sequence value which is substantially more than the actual percentage.\n",
        "\n",
        "The predicted probabilities are inspected to understand the issue further.\n"
      ],
      "metadata": {
        "id": "iDBayxktNeeO"
      }
    },
    {
      "cell_type": "code",
      "source": [
        "lr.predict_proba(X_large_test)"
      ],
      "metadata": {
        "colab": {
          "base_uri": "https://localhost:8080/"
        },
        "id": "S_9f3rk6kyYC",
        "outputId": "dec54c78-ec27-4277-8397-9e4b82abe289"
      },
      "execution_count": 91,
      "outputs": [
        {
          "output_type": "execute_result",
          "data": {
            "text/plain": [
              "array([[0.49999999, 0.50000001],\n",
              "       [0.5       , 0.5       ],\n",
              "       [0.49999988, 0.50000012],\n",
              "       ...,\n",
              "       [0.4999998 , 0.5000002 ],\n",
              "       [0.5       , 0.5       ],\n",
              "       [0.49999889, 0.50000111]])"
            ]
          },
          "metadata": {},
          "execution_count": 91
        }
      ]
    },
    {
      "cell_type": "markdown",
      "source": [
        "Very few of the predicted probabilities are outside of 0.49 to 0.51."
      ],
      "metadata": {
        "id": "KS9qKhYMNiZJ"
      }
    },
    {
      "cell_type": "code",
      "source": [
        "lr_large_predprobs = lr.predict_proba(X_large_test)[:,1] # only need the probability of positive class, column inedx 1\n",
        "a = sum(lr_large_predprobs > 0.51) \n",
        "a"
      ],
      "metadata": {
        "colab": {
          "base_uri": "https://localhost:8080/"
        },
        "id": "D3fPmbG8Odqg",
        "outputId": "dd2ab1bd-1716-4ecf-ed2e-d33ba12c090e"
      },
      "execution_count": 92,
      "outputs": [
        {
          "output_type": "execute_result",
          "data": {
            "text/plain": [
              "2141"
            ]
          },
          "metadata": {},
          "execution_count": 92
        }
      ]
    },
    {
      "cell_type": "code",
      "source": [
        "b = sum(lr_large_predprobs < 0.49)\n",
        "b"
      ],
      "metadata": {
        "colab": {
          "base_uri": "https://localhost:8080/"
        },
        "id": "7vMTcgrSRxby",
        "outputId": "ebc01bbc-e43d-4760-9eee-40de49f66649"
      },
      "execution_count": 93,
      "outputs": [
        {
          "output_type": "execute_result",
          "data": {
            "text/plain": [
              "34"
            ]
          },
          "metadata": {},
          "execution_count": 93
        }
      ]
    },
    {
      "cell_type": "code",
      "source": [
        "(a + b) / len(X_large_test)"
      ],
      "metadata": {
        "colab": {
          "base_uri": "https://localhost:8080/"
        },
        "id": "qTS_Y6hGR8au",
        "outputId": "4c0c1c6a-b3da-4ebc-97f7-598f0ee18975"
      },
      "execution_count": 94,
      "outputs": [
        {
          "output_type": "execute_result",
          "data": {
            "text/plain": [
              "0.07250966795572743"
            ]
          },
          "metadata": {},
          "execution_count": 94
        }
      ]
    },
    {
      "cell_type": "code",
      "source": [
        "np.mean(lr_large_predprobs)"
      ],
      "metadata": {
        "colab": {
          "base_uri": "https://localhost:8080/"
        },
        "id": "m2fvf5hXOdtl",
        "outputId": "75bb3ec5-e6c8-47b8-b167-aceaa5ae02af"
      },
      "execution_count": 95,
      "outputs": [
        {
          "output_type": "execute_result",
          "data": {
            "text/plain": [
              "0.5142342711634368"
            ]
          },
          "metadata": {},
          "execution_count": 95
        }
      ]
    },
    {
      "cell_type": "markdown",
      "source": [
        "The mean of the predicted probabilities across sequences is very close to 0.5 even though almost 91% are above 0.5.\n",
        "This is likely because the coefficients are very small due to the outliers driving them towards zero. The model is inspected and this is confirmed.\n"
      ],
      "metadata": {
        "id": "OFbnYs0mSQaP"
      }
    },
    {
      "cell_type": "code",
      "source": [
        "lr.coef_"
      ],
      "metadata": {
        "colab": {
          "base_uri": "https://localhost:8080/"
        },
        "id": "ZhtmOFnBOQLc",
        "outputId": "fd2bd342-22f1-4468-90cb-3ead06c37d17"
      },
      "execution_count": 96,
      "outputs": [
        {
          "output_type": "execute_result",
          "data": {
            "text/plain": [
              "array([[-9.24312628e-10, -4.04284890e-10,  5.18686430e-10,\n",
              "         1.93835037e-10, -2.57218374e-09, -3.06453208e-10,\n",
              "         4.80978676e-10,  2.01488181e-09,  1.15016728e-09]])"
            ]
          },
          "metadata": {},
          "execution_count": 96
        }
      ]
    },
    {
      "cell_type": "markdown",
      "source": [
        "\n",
        "There appears to be very little \"learning\" going on with the model and a reduced data set should be considered. Standard classifier metrics for imbalanced data are determined for this model for further diagnostics (F$_{1}$ score, AUC) and as benchmarks for the reduced data set."
      ],
      "metadata": {
        "id": "lN8EXh2iRVc8"
      }
    },
    {
      "cell_type": "code",
      "source": [
        "f1_lr_large = f1_score(y_large_test, lr_large_preds)\n",
        "f1_lr_large"
      ],
      "metadata": {
        "colab": {
          "base_uri": "https://localhost:8080/"
        },
        "id": "UWFMEnWhOdy5",
        "outputId": "45f3d17c-9322-4eef-ddca-99359cc47ca3"
      },
      "execution_count": 97,
      "outputs": [
        {
          "output_type": "execute_result",
          "data": {
            "text/plain": [
              "0.8554998702154424"
            ]
          },
          "metadata": {},
          "execution_count": 97
        }
      ]
    },
    {
      "cell_type": "code",
      "source": [
        "roc_lr_large_dat = roc_curve(y_large_test, lr_large_predprobs)\n",
        "auc_lr_large = roc_auc_score(y_large_test, lr_large_predprobs)\n",
        "auc_lr_large"
      ],
      "metadata": {
        "colab": {
          "base_uri": "https://localhost:8080/"
        },
        "id": "GisZ-MSwOd5F",
        "outputId": "c5a8ceed-aa8f-4eff-e542-1a6da3d932e2"
      },
      "execution_count": 98,
      "outputs": [
        {
          "output_type": "execute_result",
          "data": {
            "text/plain": [
              "0.7866600154555823"
            ]
          },
          "metadata": {},
          "execution_count": 98
        }
      ]
    },
    {
      "cell_type": "code",
      "source": [
        "plt.plot(roc_lr_large_dat[0], roc_lr_large_dat[1], label=\"ROC curve (area = %0.3f)\" % auc_lr_large)\n",
        "plt.xlabel(\"False Positive Rate\")\n",
        "plt.ylabel(\"True Positive Rate\")\n",
        "plt.title(\"Receiver operating curve\")\n",
        "plt.legend(loc=\"lower right\")\n",
        "plt.plot([0, 1], [0, 1], color=\"red\", linestyle=\"--\")"
      ],
      "metadata": {
        "colab": {
          "base_uri": "https://localhost:8080/",
          "height": 356
        },
        "id": "t5cf4v0Xm4c4",
        "outputId": "2326df93-0ba7-49d5-c677-2d063b193f3c"
      },
      "execution_count": 99,
      "outputs": [
        {
          "output_type": "execute_result",
          "data": {
            "text/plain": [
              "[<matplotlib.lines.Line2D at 0x7f9468165690>]"
            ]
          },
          "metadata": {},
          "execution_count": 99
        },
        {
          "output_type": "display_data",
          "data": {
            "text/plain": [
              "<Figure size 460.8x345.6 with 1 Axes>"
            ],
            "image/png": "[encoded data removed]"
          },
          "metadata": {
            "needs_background": "light"
          }
        }
      ]
    },
    {
      "cell_type": "markdown",
      "source": [
        " \n",
        "Even with most predicted probabilities falling in a very small range, there is enough differentiation resulting in a predicted probability ordering that leads to a better than benchmark AUC.\n"
      ],
      "metadata": {
        "id": "_GjgfhvTCzsx"
      }
    },
    {
      "cell_type": "code",
      "source": [
        "cm_lr_large = confusion_matrix(y_large_test, lr_large_preds)\n",
        "disp = ConfusionMatrixDisplay(cm_lr_large)\n",
        "disp.plot(values_format='')"
      ],
      "metadata": {
        "colab": {
          "base_uri": "https://localhost:8080/",
          "height": 340
        },
        "id": "Xxa8OlMOo1fx",
        "outputId": "871ff2f3-18cd-4784-a830-ec5a78d54a5f"
      },
      "execution_count": 100,
      "outputs": [
        {
          "output_type": "execute_result",
          "data": {
            "text/plain": [
              "<sklearn.metrics._plot.confusion_matrix.ConfusionMatrixDisplay at 0x7f9466e1c090>"
            ]
          },
          "metadata": {},
          "execution_count": 100
        },
        {
          "output_type": "display_data",
          "data": {
            "text/plain": [
              "<Figure size 460.8x345.6 with 2 Axes>"
            ],
            "image/png": "[encoded data removed]"
          },
          "metadata": {
            "needs_background": "light"
          }
        }
      ]
    },
    {
      "cell_type": "markdown",
      "source": [
        "\n",
        "While the AUC indicates reasonable performance, the confusion matrix shows that when the true label is negative (non-increasing 10th sequence values versus 9th) it is often misclassified (high false positive).\n",
        "\n"
      ],
      "metadata": {
        "id": "VKzbkPr_scNw"
      }
    },
    {
      "cell_type": "code",
      "source": [
        "all_ones_large = len(y_large_test) * [1]\n",
        "f1_bench_large = f1_score(y_large_test, all_ones_large)\n",
        "f1_bench_large"
      ],
      "metadata": {
        "colab": {
          "base_uri": "https://localhost:8080/"
        },
        "id": "R-CL7wtxlje0",
        "outputId": "674ce631-18ae-46f7-d08c-93b4f05c1d76"
      },
      "execution_count": 101,
      "outputs": [
        {
          "output_type": "execute_result",
          "data": {
            "text/plain": [
              "0.8636802727531017"
            ]
          },
          "metadata": {},
          "execution_count": 101
        }
      ]
    },
    {
      "cell_type": "markdown",
      "source": [
        "Thus the F$_{1}$ score for logistic regression does not outperform classifying every sequence as increasing from the 9th to 10th sequence values."
      ],
      "metadata": {
        "id": "GpH2ktTlmuvt"
      }
    },
    {
      "cell_type": "markdown",
      "source": [
        "# More Expolartory Data Analysis (EDA)"
      ],
      "metadata": {
        "id": "7UxHdscLy2UV"
      }
    },
    {
      "cell_type": "markdown",
      "source": [
        "Now we work with a substantially reduced data set with values between $-10^{3}$ and $10^{3}$.\n"
      ],
      "metadata": {
        "id": "RwJPfdw1ylR6"
      }
    },
    {
      "cell_type": "code",
      "source": [
        "X_small_ub = X[(X[X.columns] < 1e3).sum(1) > 8] # values are upper bounded first\n",
        "X_small = X_small_ub[(X_small_ub[X_small_ub.columns] > -1e3).sum(1) > 8]\n",
        "y_small = y[(X[X.columns] < 1e3).sum(1) > 8] # # corresponding targets determined\n",
        "y_small = y_small[(X_small_ub[X_small_ub.columns] > -1e3).sum(1) > 8]"
      ],
      "metadata": {
        "id": "vpf1A-wyo1jP"
      },
      "execution_count": 102,
      "outputs": []
    },
    {
      "cell_type": "code",
      "source": [
        "X_small.shape"
      ],
      "metadata": {
        "colab": {
          "base_uri": "https://localhost:8080/"
        },
        "id": "GepSTxhAo1mo",
        "outputId": "e1bbb869-8b68-435a-f76a-56196bba3e18"
      },
      "execution_count": 103,
      "outputs": [
        {
          "output_type": "execute_result",
          "data": {
            "text/plain": [
              "(198141, 9)"
            ]
          },
          "metadata": {},
          "execution_count": 103
        }
      ]
    },
    {
      "cell_type": "code",
      "source": [
        "y_small.shape"
      ],
      "metadata": {
        "id": "KI7QdWyW9R6g",
        "colab": {
          "base_uri": "https://localhost:8080/"
        },
        "outputId": "6addb307-1a80-4e65-b844-cc1d9658d0ff"
      },
      "execution_count": 104,
      "outputs": [
        {
          "output_type": "execute_result",
          "data": {
            "text/plain": [
              "(198141,)"
            ]
          },
          "metadata": {},
          "execution_count": 104
        }
      ]
    },
    {
      "cell_type": "code",
      "source": [
        "len(X_small)/len(X) * 100"
      ],
      "metadata": {
        "id": "Y_QCtVWHdpLS",
        "colab": {
          "base_uri": "https://localhost:8080/"
        },
        "outputId": "14506640-205a-4af6-e2bc-4fcc7708f835"
      },
      "execution_count": 108,
      "outputs": [
        {
          "output_type": "execute_result",
          "data": {
            "text/plain": [
              "59.127328719909045"
            ]
          },
          "metadata": {},
          "execution_count": 108
        }
      ]
    },
    {
      "cell_type": "code",
      "source": [
        "len(X_small)/len(X_large) * 100"
      ],
      "metadata": {
        "id": "IpI8-R9PdpOS",
        "colab": {
          "base_uri": "https://localhost:8080/"
        },
        "outputId": "09ea481a-4450-46de-ec38-61313b814e0b"
      },
      "execution_count": 109,
      "outputs": [
        {
          "output_type": "execute_result",
          "data": {
            "text/plain": [
              "66.0564680937601"
            ]
          },
          "metadata": {},
          "execution_count": 109
        }
      ]
    },
    {
      "cell_type": "markdown",
      "source": [
        "The smaller data set is under 60% of the original data set and 66% of the larger data set the prior logistic regression model was trained on. There are slightly under 200,000 sequences with the first nine sequence values as features.\n",
        "\n",
        "We analyze the mean and median of the sequence values as well as construct boxplots and histograms to explore the distribution of values."
      ],
      "metadata": {
        "id": "-MurUOEA_zo9"
      }
    },
    {
      "cell_type": "code",
      "source": [
        "np.mean(X_small, axis = 0)"
      ],
      "metadata": {
        "colab": {
          "base_uri": "https://localhost:8080/"
        },
        "id": "e9R8jicMex-y",
        "outputId": "4917ff6f-f4ff-49bd-9211-32feffd9c261"
      },
      "execution_count": 193,
      "outputs": [
        {
          "output_type": "execute_result",
          "data": {
            "text/plain": [
              "1     5.008746\n",
              "2     8.505327\n",
              "3    12.806037\n",
              "4    18.058297\n",
              "5    24.731388\n",
              "6    32.575797\n",
              "7    44.581429\n",
              "8    61.007752\n",
              "9    86.210744\n",
              "dtype: float64"
            ]
          },
          "metadata": {},
          "execution_count": 193
        }
      ]
    },
    {
      "cell_type": "code",
      "source": [
        "np.median(X_small, axis = 0)"
      ],
      "metadata": {
        "colab": {
          "base_uri": "https://localhost:8080/"
        },
        "id": "i4BIqAi0eyJr",
        "outputId": "4444a359-2faf-48fc-e202-3fb8b9e36584"
      },
      "execution_count": 196,
      "outputs": [
        {
          "output_type": "execute_result",
          "data": {
            "text/plain": [
              "array([ 1.,  2.,  3.,  5.,  6.,  8., 10., 13., 16.])"
            ]
          },
          "metadata": {},
          "execution_count": 196
        }
      ]
    },
    {
      "cell_type": "code",
      "source": [
        "plt.rcParams[\"figure.figsize\"] = (16,6)\n",
        "\n",
        "X_small_plot = X_small.melt(id_vars = [], value_vars= ['1', '2', '3', '4', '5', '6', '7', '8', '9'], \n",
        "                        var_name='n', value_name='Sequence (n)')\n",
        "\n",
        "sns.boxplot(y=X_small_plot[\"n\"], x=X_small_plot[\"Sequence (n)\"])\n",
        "\n",
        "plt"
      ],
      "metadata": {
        "colab": {
          "base_uri": "https://localhost:8080/",
          "height": 405
        },
        "id": "FcqmnGt4dpBj",
        "outputId": "6bdc096f-d845-4f2c-d199-a8eca509f4de"
      },
      "execution_count": 105,
      "outputs": [
        {
          "output_type": "execute_result",
          "data": {
            "text/plain": [
              "<module 'matplotlib.pyplot' from '/usr/local/lib/python3.7/dist-packages/matplotlib/pyplot.py'>"
            ]
          },
          "metadata": {},
          "execution_count": 105
        },
        {
          "output_type": "display_data",
          "data": {
            "text/plain": [
              "<Figure size 1152x432 with 1 Axes>"
            ],
            "image/png": "[encoded data removed]"
          },
          "metadata": {
            "needs_background": "light"
          }
        }
      ]
    },
    {
      "cell_type": "code",
      "source": [
        "plt.rcParams[\"figure.figsize\"] = (16,16)\n",
        "\n",
        "fig, axs = plt.subplots(3, 3)\n",
        "axs[0, 0].hist(X_small['1'])\n",
        "axs[0, 0].set_title('First Sequence Values')\n",
        "axs[0, 1].hist(X_small['2'])\n",
        "axs[0, 1].set_title('Second Sequence Values')\n",
        "axs[0, 2].hist(X_small['3'])\n",
        "axs[0, 2].set_title('Third Sequence Values')\n",
        "axs[1, 0].hist(X_small['4'])\n",
        "axs[1, 0].set_title('Fourth Sequence Values')\n",
        "axs[1, 1].hist(X_small['5'])\n",
        "axs[1, 1].set_title('Fifth Sequence Values')\n",
        "axs[1, 2].hist(X_small['6'])\n",
        "axs[1, 2].set_title('Sixth Sequence Values')\n",
        "axs[2, 0].hist(X_small['7'])\n",
        "axs[2, 0].set_title('Seventh Sequence Values')\n",
        "axs[2, 1].hist(X_small['8'])\n",
        "axs[2, 1].set_title('Eigth Sequence Values')\n",
        "axs[2, 2].hist(X_small['9'])\n",
        "axs[2, 2].set_title('Ninth Sequence Values')"
      ],
      "metadata": {
        "id": "3hZp606zdpHm",
        "colab": {
          "base_uri": "https://localhost:8080/",
          "height": 942
        },
        "outputId": "97004bf9-9fde-4366-ccc4-d6f324adae78"
      },
      "execution_count": 106,
      "outputs": [
        {
          "output_type": "execute_result",
          "data": {
            "text/plain": [
              "Text(0.5, 1.0, 'Ninth Sequence Values')"
            ]
          },
          "metadata": {},
          "execution_count": 106
        },
        {
          "output_type": "display_data",
          "data": {
            "text/plain": [
              "<Figure size 1152x1152 with 9 Axes>"
            ],
            "image/png": "[encoded data removed]"
          },
          "metadata": {
            "needs_background": "light"
          }
        }
      ]
    },
    {
      "cell_type": "markdown",
      "source": [
        "There are still plenty of outliers and right skew persists, but the extremely large values that are removed should no longer have as much impact on the weight updates. The means are not substantially larger than the medians as compared to before.\n",
        "\n",
        "\n",
        "\n",
        "\n",
        "\n",
        "\n"
      ],
      "metadata": {
        "id": "rIC7u3UVLKzX"
      }
    },
    {
      "cell_type": "code",
      "source": [
        "plt.rcParams[\"figure.figsize\"] = plt.rcParamsDefault[\"figure.figsize\"] # reset figure size"
      ],
      "metadata": {
        "id": "TcNVHdg7LIEv"
      },
      "execution_count": 107,
      "outputs": []
    },
    {
      "cell_type": "code",
      "source": [
        "np.mean(y_small)"
      ],
      "metadata": {
        "colab": {
          "base_uri": "https://localhost:8080/"
        },
        "id": "EqC5FP82_y5V",
        "outputId": "a30a9149-b22a-4e9b-c833-8c2fa2e7c1e3"
      },
      "execution_count": 110,
      "outputs": [
        {
          "output_type": "execute_result",
          "data": {
            "text/plain": [
              "0.6820799329770214"
            ]
          },
          "metadata": {},
          "execution_count": 110
        }
      ]
    },
    {
      "cell_type": "markdown",
      "source": [
        "There is still class imbalance but it is less significant than before. "
      ],
      "metadata": {
        "id": "0WT8-px-AQxj"
      }
    },
    {
      "cell_type": "code",
      "source": [
        "ax = sns.heatmap(X_small.corr(), annot = True, fmt = '.2f', cmap = 'seismic')\n",
        "ax.set_title(\"Correlation Matrix of Sequence Values (Small Data Set)\")\n",
        "ax"
      ],
      "metadata": {
        "colab": {
          "base_uri": "https://localhost:8080/",
          "height": 342
        },
        "id": "riHOSk6XFjKp",
        "outputId": "61f4d27b-8088-4284-e3c8-f22398d6d43c"
      },
      "execution_count": 111,
      "outputs": [
        {
          "output_type": "execute_result",
          "data": {
            "text/plain": [
              "<matplotlib.axes._subplots.AxesSubplot at 0x7f94667992d0>"
            ]
          },
          "metadata": {},
          "execution_count": 111
        },
        {
          "output_type": "display_data",
          "data": {
            "text/plain": [
              "<Figure size 460.8x345.6 with 2 Axes>"
            ],
            "image/png": "[encoded data removed]"
          },
          "metadata": {
            "needs_background": "light"
          }
        }
      ]
    },
    {
      "cell_type": "markdown",
      "source": [
        "As expected, sequence values in nearby positions are more correlated and this pattern is more pronounced in this reduced data set. Whether using only a subset of the sequence values (those near the 10th position) would lead to better performance is worth further consideration. "
      ],
      "metadata": {
        "id": "piSn5VIbGPeH"
      }
    },
    {
      "cell_type": "markdown",
      "source": [
        "# Logistic Regression On Reduced Data Set"
      ],
      "metadata": {
        "id": "raO2e29AAnsc"
      }
    },
    {
      "cell_type": "markdown",
      "source": [
        "Again we use 90% of the data for training and make predictions on the remaining 10%. The random state is set for reproducibility. "
      ],
      "metadata": {
        "id": "mT458xwaBnBV"
      }
    },
    {
      "cell_type": "code",
      "source": [
        "X_small_train, X_small_test, y_small_train, y_small_test = train_test_split(X_small, y_small, test_size=.1, random_state=0)\n",
        "X_small_train.shape"
      ],
      "metadata": {
        "colab": {
          "base_uri": "https://localhost:8080/"
        },
        "id": "3DRJDmMf_zB8",
        "outputId": "31fe4373-3875-4cfa-9110-2b3afabdd0bb"
      },
      "execution_count": 112,
      "outputs": [
        {
          "output_type": "execute_result",
          "data": {
            "text/plain": [
              "(178326, 9)"
            ]
          },
          "metadata": {},
          "execution_count": 112
        }
      ]
    },
    {
      "cell_type": "code",
      "source": [
        "np.mean(y_small_train)"
      ],
      "metadata": {
        "colab": {
          "base_uri": "https://localhost:8080/"
        },
        "id": "LkZYqBBVB9jl",
        "outputId": "a77d1cf0-85e0-4ea7-eec7-89870c9f5596"
      },
      "execution_count": 113,
      "outputs": [
        {
          "output_type": "execute_result",
          "data": {
            "text/plain": [
              "0.682143938629252"
            ]
          },
          "metadata": {},
          "execution_count": 113
        }
      ]
    },
    {
      "cell_type": "code",
      "source": [
        "lr.fit(X_small_train, y_small_train)\n",
        "lr_small_acc = lr.score(X_small_test, y_small_test)\n",
        "lr_small_acc"
      ],
      "metadata": {
        "colab": {
          "base_uri": "https://localhost:8080/"
        },
        "id": "kG2pQdquB9oe",
        "outputId": "bd8c5a72-1746-4098-9d9d-da6b77bf2de1"
      },
      "execution_count": 114,
      "outputs": [
        {
          "output_type": "execute_result",
          "data": {
            "text/plain": [
              "0.6886197325258643"
            ]
          },
          "metadata": {},
          "execution_count": 114
        }
      ]
    },
    {
      "cell_type": "code",
      "source": [
        "np.mean(y_small_test)"
      ],
      "metadata": {
        "colab": {
          "base_uri": "https://localhost:8080/"
        },
        "id": "oF3f4mvaPTIW",
        "outputId": "5c56e14f-f6b4-4598-e459-80cf602bc0e7"
      },
      "execution_count": 115,
      "outputs": [
        {
          "output_type": "execute_result",
          "data": {
            "text/plain": [
              "0.6815039111784003"
            ]
          },
          "metadata": {},
          "execution_count": 115
        }
      ]
    },
    {
      "cell_type": "code",
      "source": [
        "lr_small_preds = lr.predict(X_small_test) \n",
        "np.mean(lr_small_preds)"
      ],
      "metadata": {
        "colab": {
          "base_uri": "https://localhost:8080/"
        },
        "id": "A_rZfZaiCiAz",
        "outputId": "39e78c89-8aac-4bfe-9ac8-5a61de374445"
      },
      "execution_count": 116,
      "outputs": [
        {
          "output_type": "execute_result",
          "data": {
            "text/plain": [
              "0.9820842795861721"
            ]
          },
          "metadata": {},
          "execution_count": 116
        }
      ]
    },
    {
      "cell_type": "code",
      "source": [
        "lr_small_predprobs = lr.predict_proba(X_small_test)[:,1]\n",
        "np.mean(lr_small_predprobs)"
      ],
      "metadata": {
        "id": "PTQdzhWuCiQU",
        "colab": {
          "base_uri": "https://localhost:8080/"
        },
        "outputId": "965158e8-c387-466a-9329-726c9d0288fc"
      },
      "execution_count": 117,
      "outputs": [
        {
          "output_type": "execute_result",
          "data": {
            "text/plain": [
              "0.6827234316100139"
            ]
          },
          "metadata": {},
          "execution_count": 117
        }
      ]
    },
    {
      "cell_type": "markdown",
      "source": [
        "Even though the accuracy is barely better than the baseline and predictions with the 0.5 threshold appear problematic (almost every sequence is predicted as increasing from the 9th to 10th value - even more so than before), the predicted probabilities of the model do suggest something has been learned as it is near the actual proportion of the positive class in the test set.\n",
        " \n",
        "The explanation for this difference is due to the standard 0.5 threshold used for making predictions in logistic regression. We attempt to tune this hyperparameter to see if the model predicted probabilities can lead to better performance across metrics. "
      ],
      "metadata": {
        "id": "nRxPUch1H_sR"
      }
    },
    {
      "cell_type": "markdown",
      "source": [
        "# Threshold Moving (Hyperparameter Tuning)"
      ],
      "metadata": {
        "id": "CSx3pmIoG0i5"
      }
    },
    {
      "cell_type": "markdown",
      "source": [
        "We evaluate if a different threshold other than the standard 0.5 will result in improved model performance. Threshold moving is a form of hyperparameter tuning used when predictions and not probabilities are more important for the use case of the classifier and guidance cannot be drawn from domain expertise. Note both accuracy and F$_{1}$ score can vary utilizing a different threshold. AUC on the other hand evaluates model performance across numerous thresholds by considering the predicted probabilities.   \n",
        " \n",
        "To develop intuition on what a reasonable threshold would be,  we aim to find the threshold for which roughly the same proportion of predictions are classified as positive as the amount that actually occurs. As we are hyperparameter tuning, predictions on the training data are used.\n",
        " \n",
        "For more on threshold moving see the following link https://machinelearningmastery.com/threshold-moving-for-imbalanced-classification/\n"
      ],
      "metadata": {
        "id": "V4RtaBdVG254"
      }
    },
    {
      "cell_type": "code",
      "source": [
        "lr_small_train_predprobs = lr.predict_proba(X_small_train)[:,1]"
      ],
      "metadata": {
        "id": "NOI6ssQmV21J"
      },
      "execution_count": 120,
      "outputs": []
    },
    {
      "cell_type": "code",
      "source": [
        "thresholds = np.array(range(1,100))/100\n",
        "thresh_lr_preds = []\n",
        "for threshold in thresholds:\n",
        "  thresh_lr_preds.append(np.mean(lr_small_train_predprobs > threshold))"
      ],
      "metadata": {
        "id": "BBBUYkEBVHhB"
      },
      "execution_count": 121,
      "outputs": []
    },
    {
      "cell_type": "code",
      "source": [
        "plt.plot(thresholds, thresh_lr_preds)\n",
        "plt.xlabel(\"Thresholds\")\n",
        "plt.ylabel(\"Proportion Predicted Positive Class\")\n",
        "plt.plot([0, 1], [np.mean(y_small_train), np.mean(y_small_train)], color=\"red\", linestyle=\"--\", \n",
        "        label = 'Actual Training Data Proportion')\n",
        "plt.legend(loc=\"lower left\")"
      ],
      "metadata": {
        "colab": {
          "base_uri": "https://localhost:8080/",
          "height": 340
        },
        "id": "LSIOGbMdUnaj",
        "outputId": "10e1c231-2ac4-40fa-94ac-d4fdd1850855"
      },
      "execution_count": 122,
      "outputs": [
        {
          "output_type": "execute_result",
          "data": {
            "text/plain": [
              "<matplotlib.legend.Legend at 0x7f9467ccc7d0>"
            ]
          },
          "metadata": {},
          "execution_count": 122
        },
        {
          "output_type": "display_data",
          "data": {
            "text/plain": [
              "<Figure size 460.8x345.6 with 1 Axes>"
            ],
            "image/png": "[encoded data removed]"
          },
          "metadata": {
            "needs_background": "light"
          }
        }
      ]
    },
    {
      "cell_type": "code",
      "source": [
        "idx = np.where(thresh_lr_preds < np.mean(y_small_train))[0][0] # first index where threshold is sufficiently large\n",
        "idx"
      ],
      "metadata": {
        "colab": {
          "base_uri": "https://localhost:8080/"
        },
        "id": "XxjzD3jSuXiv",
        "outputId": "4a0cef50-215c-4ab9-b4a3-edff3347f0f9"
      },
      "execution_count": 123,
      "outputs": [
        {
          "output_type": "execute_result",
          "data": {
            "text/plain": [
              "57"
            ]
          },
          "metadata": {},
          "execution_count": 123
        }
      ]
    },
    {
      "cell_type": "code",
      "source": [
        "new_thresh = thresholds[idx]\n",
        "new_thresh"
      ],
      "metadata": {
        "colab": {
          "base_uri": "https://localhost:8080/"
        },
        "id": "CKUSNysPvJqy",
        "outputId": "ed911c6d-a24c-46f7-d0fc-1b7d8a120409"
      },
      "execution_count": 124,
      "outputs": [
        {
          "output_type": "execute_result",
          "data": {
            "text/plain": [
              "0.58"
            ]
          },
          "metadata": {},
          "execution_count": 124
        }
      ]
    },
    {
      "cell_type": "code",
      "source": [
        "lr_small_preds_newthresh = (lr_small_predprobs > new_thresh)\n",
        "np.mean(lr_small_preds_newthresh == y_small_test)"
      ],
      "metadata": {
        "colab": {
          "base_uri": "https://localhost:8080/"
        },
        "id": "HkJIuMzKw7Na",
        "outputId": "14498cbf-cf6f-4d24-ff6b-47535337f10c"
      },
      "execution_count": 125,
      "outputs": [
        {
          "output_type": "execute_result",
          "data": {
            "text/plain": [
              "0.7755235932374464"
            ]
          },
          "metadata": {},
          "execution_count": 125
        }
      ]
    },
    {
      "cell_type": "markdown",
      "source": [
        "Finally we see an improvement over the baseline with a threshold of 0.58 resulting in an accuracy of 0.776 (3 s.f.) verus the baseline of 0.682 (3 s.f.).\n",
        "\n",
        "We now try calculating the test set accuracy across thresholds to see whether this was indeed close to optimal, though this should not be done for hyperparameter tuning due to overfitting. "
      ],
      "metadata": {
        "id": "gYhcUJxqyGAp"
      }
    },
    {
      "cell_type": "code",
      "source": [
        "thresh_lr_accs = []\n",
        "for threshold in thresholds:\n",
        "  lr_small_preds_thresh = (lr_small_predprobs > threshold)\n",
        "  thresh_lr_accs.append(np.mean(lr_small_preds_thresh == y_small_test))"
      ],
      "metadata": {
        "id": "2eTeQUctw7Q9"
      },
      "execution_count": 126,
      "outputs": []
    },
    {
      "cell_type": "code",
      "source": [
        "plt.plot(thresholds, thresh_lr_accs)\n",
        "plt.xlabel(\"Thresholds\")\n",
        "plt.ylabel(\"Test Set Accuracy\")\n",
        "plt.plot([new_thresh, new_thresh], [0,1], color=\"red\", linestyle=\"--\", \n",
        "        label = 'Threshold Used')\n",
        "plt.legend()"
      ],
      "metadata": {
        "colab": {
          "base_uri": "https://localhost:8080/",
          "height": 340
        },
        "id": "tFN_qyI-w7Ut",
        "outputId": "53a1a833-1765-4aea-b7ca-5442373a4323"
      },
      "execution_count": 127,
      "outputs": [
        {
          "output_type": "execute_result",
          "data": {
            "text/plain": [
              "<matplotlib.legend.Legend at 0x7f9467d61510>"
            ]
          },
          "metadata": {},
          "execution_count": 127
        },
        {
          "output_type": "display_data",
          "data": {
            "text/plain": [
              "<Figure size 460.8x345.6 with 1 Axes>"
            ],
            "image/png": "[encoded data removed]"
          },
          "metadata": {
            "needs_background": "light"
          }
        }
      ]
    },
    {
      "cell_type": "code",
      "source": [
        "thresholds[np.argmax(thresh_lr_accs)]"
      ],
      "metadata": {
        "colab": {
          "base_uri": "https://localhost:8080/"
        },
        "id": "ZQB_poPlw7YR",
        "outputId": "6c316b63-37a4-4867-f3c1-3d07c90202b1"
      },
      "execution_count": 128,
      "outputs": [
        {
          "output_type": "execute_result",
          "data": {
            "text/plain": [
              "0.58"
            ]
          },
          "metadata": {},
          "execution_count": 128
        }
      ]
    },
    {
      "cell_type": "markdown",
      "source": [
        "The maximum test set accuracy is actually achieved with a 0.58 threshold. So picking our threshold for predictions to match the proportion of positive class labels in the training data, leads to the optimal accuracy on the test set."
      ],
      "metadata": {
        "id": "4Gl4H9X34Ett"
      }
    },
    {
      "cell_type": "code",
      "source": [
        "thresh_lr_f1 = []\n",
        "for threshold in thresholds:\n",
        "  lr_small_preds_thresh = (lr_small_predprobs > threshold)\n",
        "  thresh_lr_f1.append(f1_score(y_small_test, lr_small_preds_thresh))"
      ],
      "metadata": {
        "id": "VXTVHMLP4VIu"
      },
      "execution_count": 129,
      "outputs": []
    },
    {
      "cell_type": "code",
      "source": [
        "plt.plot(thresholds, thresh_lr_f1)\n",
        "plt.xlabel(\"Thresholds\")\n",
        "plt.ylabel(\"Test Set F1 Score\")\n",
        "plt.plot([new_thresh, new_thresh], [0,1], color=\"red\", linestyle=\"--\", \n",
        "        label = 'Threshold Used')\n",
        "plt.legend()"
      ],
      "metadata": {
        "colab": {
          "base_uri": "https://localhost:8080/",
          "height": 340
        },
        "id": "tx2TFSkG4VMr",
        "outputId": "6fc4474b-6559-4258-e1c2-8f4c5c12166e"
      },
      "execution_count": 130,
      "outputs": [
        {
          "output_type": "execute_result",
          "data": {
            "text/plain": [
              "<matplotlib.legend.Legend at 0x7f9467d12fd0>"
            ]
          },
          "metadata": {},
          "execution_count": 130
        },
        {
          "output_type": "display_data",
          "data": {
            "text/plain": [
              "<Figure size 460.8x345.6 with 1 Axes>"
            ],
            "image/png": "[encoded data removed]"
          },
          "metadata": {
            "needs_background": "light"
          }
        }
      ]
    },
    {
      "cell_type": "code",
      "source": [
        "thresholds[np.argmax(thresh_lr_f1)]"
      ],
      "metadata": {
        "colab": {
          "base_uri": "https://localhost:8080/"
        },
        "id": "nhRFX4fi6iZ0",
        "outputId": "68d8c1bb-47ae-4cce-b451-fca2d7c052c4"
      },
      "execution_count": 131,
      "outputs": [
        {
          "output_type": "execute_result",
          "data": {
            "text/plain": [
              "0.57"
            ]
          },
          "metadata": {},
          "execution_count": 131
        }
      ]
    },
    {
      "cell_type": "code",
      "source": [
        "np.max(thresh_lr_f1) "
      ],
      "metadata": {
        "colab": {
          "base_uri": "https://localhost:8080/"
        },
        "id": "xxmv7qic6pO1",
        "outputId": "474c2c20-75be-44e1-f732-3f6046d7dbc6"
      },
      "execution_count": 132,
      "outputs": [
        {
          "output_type": "execute_result",
          "data": {
            "text/plain": [
              "0.8406107305936071"
            ]
          },
          "metadata": {},
          "execution_count": 132
        }
      ]
    },
    {
      "cell_type": "code",
      "source": [
        "thresh_lr_f1[np.argmax(thresh_lr_f1) + 1]"
      ],
      "metadata": {
        "colab": {
          "base_uri": "https://localhost:8080/"
        },
        "id": "L1gD14yV6pyp",
        "outputId": "f97195df-2f7f-4ecb-8700-46356b7bf2bb"
      },
      "execution_count": 133,
      "outputs": [
        {
          "output_type": "execute_result",
          "data": {
            "text/plain": [
              "0.8345484302931111"
            ]
          },
          "metadata": {},
          "execution_count": 133
        }
      ]
    },
    {
      "cell_type": "markdown",
      "source": [
        " Here the optimal F$_{1}$ score on the test set as at the threshold 0.57 instead of 0.58 with a small drop off at 0.58 to 0.835 (3 s.f.) from 0.841 (3 s.f.) but it is still very close. So our intuition of the best threshold determined from the training data is further supported.\n",
        "\n",
        "The graph highlights that the F$_{1}$ score may not be an appropriate metric for this data set as close to optimal scores of above 0.8 are achieved with even trivial thresholds. The benchmark classifier also illustrates this."
      ],
      "metadata": {
        "id": "1f4KTPHK7RHU"
      }
    },
    {
      "cell_type": "code",
      "source": [
        "all_ones_small = len(y_small_test) * [1]\n",
        "f1_bench_small = f1_score(y_small_test, all_ones_small)\n",
        "f1_bench_small"
      ],
      "metadata": {
        "colab": {
          "base_uri": "https://localhost:8080/"
        },
        "id": "tEn_FTPw7ilU",
        "outputId": "636e966e-f482-477d-f020-539ab0dbfbdb"
      },
      "execution_count": 134,
      "outputs": [
        {
          "output_type": "execute_result",
          "data": {
            "text/plain": [
              "0.8105885530778235"
            ]
          },
          "metadata": {},
          "execution_count": 134
        }
      ]
    },
    {
      "cell_type": "code",
      "source": [
        "cm_lr_small_thresh = confusion_matrix(y_small_test, lr_small_preds_newthresh)\n",
        "disp = ConfusionMatrixDisplay(cm_lr_small_thresh)\n",
        "disp.plot(values_format='')"
      ],
      "metadata": {
        "colab": {
          "base_uri": "https://localhost:8080/",
          "height": 340
        },
        "id": "xio7RMdt66Rl",
        "outputId": "dbae1506-149f-454b-b090-a5f86d0a3dc9"
      },
      "execution_count": 135,
      "outputs": [
        {
          "output_type": "execute_result",
          "data": {
            "text/plain": [
              "<sklearn.metrics._plot.confusion_matrix.ConfusionMatrixDisplay at 0x7f9468251890>"
            ]
          },
          "metadata": {},
          "execution_count": 135
        },
        {
          "output_type": "display_data",
          "data": {
            "text/plain": [
              "<Figure size 460.8x345.6 with 2 Axes>"
            ],
            "image/png": "[encoded data removed]"
          },
          "metadata": {
            "needs_background": "light"
          }
        }
      ]
    },
    {
      "cell_type": "code",
      "source": [
        "cm_lr_small = confusion_matrix(y_small_test, lr_small_preds)\n",
        "disp = ConfusionMatrixDisplay(cm_lr_small)\n",
        "disp.plot(values_format='')"
      ],
      "metadata": {
        "colab": {
          "base_uri": "https://localhost:8080/",
          "height": 340
        },
        "id": "wOVyDa0fBqTX",
        "outputId": "d1928b7f-1a67-4d2f-83a8-9eff05d2d9dc"
      },
      "execution_count": 136,
      "outputs": [
        {
          "output_type": "execute_result",
          "data": {
            "text/plain": [
              "<sklearn.metrics._plot.confusion_matrix.ConfusionMatrixDisplay at 0x7f9469176950>"
            ]
          },
          "metadata": {},
          "execution_count": 136
        },
        {
          "output_type": "display_data",
          "data": {
            "text/plain": [
              "<Figure size 460.8x345.6 with 2 Axes>"
            ],
            "image/png": "[encoded data removed]"
          },
          "metadata": {
            "needs_background": "light"
          }
        }
      ]
    },
    {
      "cell_type": "markdown",
      "source": [
        "Comparing the confusion matrices, we see that using the 0.58 threshold (top) doesn't miss almost completely on the 0 true labels compared to the 0.5 threshold. The 0.5 threshold is very similar to a classifier that just predicts the majority class. "
      ],
      "metadata": {
        "id": "0uQzsI28DYYl"
      }
    },
    {
      "cell_type": "code",
      "source": [
        "roc_lr_small_dat = roc_curve(y_small_test, lr_small_predprobs)\n",
        "auc_lr_small = roc_auc_score(y_small_test, lr_small_predprobs)\n",
        "auc_lr_small"
      ],
      "metadata": {
        "colab": {
          "base_uri": "https://localhost:8080/"
        },
        "id": "53NsYligDXYx",
        "outputId": "e29e3610-da6f-417c-83f2-a30c14d830e9"
      },
      "execution_count": 137,
      "outputs": [
        {
          "output_type": "execute_result",
          "data": {
            "text/plain": [
              "0.8214885278919453"
            ]
          },
          "metadata": {},
          "execution_count": 137
        }
      ]
    },
    {
      "cell_type": "code",
      "source": [
        "plt.plot(roc_lr_small_dat[0], roc_lr_small_dat[1], label=\"ROC curve (area = %0.3f)\" % auc_lr_small)\n",
        "plt.xlabel(\"False Positive Rate\")\n",
        "plt.ylabel(\"True Positive Rate\")\n",
        "plt.title(\"Receiver operating curve\")\n",
        "plt.legend(loc=\"lower right\")\n",
        "plt.plot([0, 1], [0, 1], color=\"red\", linestyle=\"--\")"
      ],
      "metadata": {
        "id": "6ky-XRwt66Ye",
        "colab": {
          "base_uri": "https://localhost:8080/",
          "height": 356
        },
        "outputId": "a50583aa-c852-46fe-a298-1e9cba8837a3"
      },
      "execution_count": 138,
      "outputs": [
        {
          "output_type": "execute_result",
          "data": {
            "text/plain": [
              "[<matplotlib.lines.Line2D at 0x7f9469339950>]"
            ]
          },
          "metadata": {},
          "execution_count": 138
        },
        {
          "output_type": "display_data",
          "data": {
            "text/plain": [
              "<Figure size 460.8x345.6 with 1 Axes>"
            ],
            "image/png": "[encoded data removed]"
          },
          "metadata": {
            "needs_background": "light"
          }
        }
      ]
    },
    {
      "cell_type": "markdown",
      "source": [
        "\n",
        "The ROC curve has an area under the curve (AUC) of 0.821 (3.s.f). This was the only decent performing metric when logistic regression was used on the larger data set and this still outperforms.\n"
      ],
      "metadata": {
        "id": "Sj7r2Nj_8MdR"
      }
    },
    {
      "cell_type": "markdown",
      "source": [
        "# Generalization of Model on Reduced Data Set to Larger Data Set"
      ],
      "metadata": {
        "id": "9IWwdMlmLbhg"
      }
    },
    {
      "cell_type": "markdown",
      "source": [
        "Now we see how this logistic regression model with severe outliers removed generalizes to the larger data set where the outliers are included."
      ],
      "metadata": {
        "id": "UWEDvTc6cUa6"
      }
    },
    {
      "cell_type": "code",
      "source": [
        "lr_small_to_large_predprobs = lr.predict_proba(X_large_test)[:,1]\n",
        "lr_large_preds_newthresh = (lr_small_to_large_predprobs > new_thresh)\n",
        "lr_small_newthresh_to_large_acc = np.mean(y_large_test == lr_large_preds_newthresh)\n",
        "lr_small_newthresh_to_large_acc"
      ],
      "metadata": {
        "colab": {
          "base_uri": "https://localhost:8080/"
        },
        "id": "SKH90QZkCKDQ",
        "outputId": "52a9a64f-5814-4304-dd12-9da149db9bda"
      },
      "execution_count": 139,
      "outputs": [
        {
          "output_type": "execute_result",
          "data": {
            "text/plain": [
              "0.8247099613281771"
            ]
          },
          "metadata": {},
          "execution_count": 139
        }
      ]
    },
    {
      "cell_type": "code",
      "source": [
        "lr_small_newthresh_to_large_f1 = f1_score(y_large_test, lr_large_preds_newthresh)\n",
        "lr_small_newthresh_to_large_f1"
      ],
      "metadata": {
        "colab": {
          "base_uri": "https://localhost:8080/"
        },
        "id": "RKXFffcHGjsZ",
        "outputId": "3d078968-e068-4c56-c17e-22ce28c57144"
      },
      "execution_count": 140,
      "outputs": [
        {
          "output_type": "execute_result",
          "data": {
            "text/plain": [
              "0.8852566340782123"
            ]
          },
          "metadata": {},
          "execution_count": 140
        }
      ]
    },
    {
      "cell_type": "code",
      "source": [
        "roc_lr_small_to_large_dat = roc_curve(y_large_test, lr_small_to_large_predprobs)\n",
        "auc_lr_small_to_large = roc_auc_score(y_large_test, lr_small_to_large_predprobs)\n",
        "auc_lr_small_to_large"
      ],
      "metadata": {
        "id": "YJIWPxEBDO-Y",
        "colab": {
          "base_uri": "https://localhost:8080/"
        },
        "outputId": "823a9e8e-8770-417c-c373-a5e907773516"
      },
      "execution_count": 141,
      "outputs": [
        {
          "output_type": "execute_result",
          "data": {
            "text/plain": [
              "0.8341442422166109"
            ]
          },
          "metadata": {},
          "execution_count": 141
        }
      ]
    },
    {
      "cell_type": "code",
      "source": [
        "plt.plot(roc_lr_small_to_large_dat[0], roc_lr_small_to_large_dat[1], label=\"ROC curve (area = %0.3f)\" % auc_lr_small_to_large)\n",
        "plt.xlabel(\"False Positive Rate\")\n",
        "plt.ylabel(\"True Positive Rate\")\n",
        "plt.title(\"Receiver operating curve\")\n",
        "plt.legend(loc=\"lower right\")\n",
        "plt.plot([0, 1], [0, 1], color=\"red\", linestyle=\"--\")"
      ],
      "metadata": {
        "id": "_ga-oGQWDPB2",
        "colab": {
          "base_uri": "https://localhost:8080/",
          "height": 356
        },
        "outputId": "147afb47-c04e-4d54-88b0-cab204f31558"
      },
      "execution_count": 142,
      "outputs": [
        {
          "output_type": "execute_result",
          "data": {
            "text/plain": [
              "[<matplotlib.lines.Line2D at 0x7f9464e819d0>]"
            ]
          },
          "metadata": {},
          "execution_count": 142
        },
        {
          "output_type": "display_data",
          "data": {
            "text/plain": [
              "<Figure size 460.8x345.6 with 1 Axes>"
            ],
            "image/png": "[encoded data removed]"
          },
          "metadata": {
            "needs_background": "light"
          }
        }
      ]
    },
    {
      "cell_type": "markdown",
      "source": [
        "Across the board there are improvements however note the train and test sets are different between the small (absolute value below 1000) and large (absolute value below $10^{10}$) and so there may be some data leakage but it's unlikely this explains the improved performance of training on the smaller data set."
      ],
      "metadata": {
        "id": "JUgl2F7SxjCW"
      }
    },
    {
      "cell_type": "code",
      "source": [
        "lr.score(X_large_train, y_large_train)"
      ],
      "metadata": {
        "colab": {
          "base_uri": "https://localhost:8080/"
        },
        "id": "5HdL2wGWKPg-",
        "outputId": "b547e023-11bf-4275-d279-6d30841c43e1"
      },
      "execution_count": 143,
      "outputs": [
        {
          "output_type": "execute_result",
          "data": {
            "text/plain": [
              "0.7680627942554665"
            ]
          },
          "metadata": {},
          "execution_count": 143
        }
      ]
    },
    {
      "cell_type": "code",
      "source": [
        "lr.score(X_large_test, y_large_test)"
      ],
      "metadata": {
        "colab": {
          "base_uri": "https://localhost:8080/"
        },
        "id": "OXFgettNKPpS",
        "outputId": "b38dec6f-1858-4f66-fd5f-1eae02f233a4"
      },
      "execution_count": 144,
      "outputs": [
        {
          "output_type": "execute_result",
          "data": {
            "text/plain": [
              "0.7645352713695159"
            ]
          },
          "metadata": {},
          "execution_count": 144
        }
      ]
    },
    {
      "cell_type": "code",
      "source": [
        "lr.score(X_small_train, y_small_train)"
      ],
      "metadata": {
        "colab": {
          "base_uri": "https://localhost:8080/"
        },
        "id": "M_3xyHfPKty-",
        "outputId": "725ef566-c100-4d9c-cec2-29e32f87624d"
      },
      "execution_count": 145,
      "outputs": [
        {
          "output_type": "execute_result",
          "data": {
            "text/plain": [
              "0.6887217792133509"
            ]
          },
          "metadata": {},
          "execution_count": 145
        }
      ]
    },
    {
      "cell_type": "code",
      "source": [
        "lr.score(X_small_test, y_small_test)"
      ],
      "metadata": {
        "colab": {
          "base_uri": "https://localhost:8080/"
        },
        "id": "NokYAAWLKxNB",
        "outputId": "60a22e4d-8f5c-4beb-9be1-6f5b177f7c80"
      },
      "execution_count": 146,
      "outputs": [
        {
          "output_type": "execute_result",
          "data": {
            "text/plain": [
              "0.6886197325258643"
            ]
          },
          "metadata": {},
          "execution_count": 146
        }
      ]
    },
    {
      "cell_type": "markdown",
      "source": [
        "Given the above where there is no difference between train and test sets in both the small and large data set, data leakage is not a valid explanation on how the reduced data set model is able to generalize well to the larger data set. \n"
      ],
      "metadata": {
        "id": "1mxrFXqJK5Hq"
      }
    },
    {
      "cell_type": "markdown",
      "source": [
        "# AdaBoost"
      ],
      "metadata": {
        "id": "b9lAaxZv2Gqx"
      }
    },
    {
      "cell_type": "markdown",
      "source": [
        " \n",
        "Outside of logistic regression, we consider other algorithms and try to understand the impact of outliers on performance and the generalizability to outliers from a model with outliers removed. We begin with AdaBoost and suspect it to be less sensitive than logistic regression to outliers where theoretical underpinnings for why logistic regression would struggle were clear. Outliers do have some impact on AdaBoost based on the literature but generally tree based models are less susceptible.  No hyperparameter tuning here is conducted as the above questions are our main interest versus optimizing model performance. 100 estimators are used as this is the default for XGBoost (which will be tried next).\n"
      ],
      "metadata": {
        "id": "x69KjTynk5ae"
      }
    },
    {
      "cell_type": "code",
      "source": [
        "ab = AdaBoostClassifier(n_estimators=100, random_state=0) # not fit so can be reused and random_state set for reproducbility\n",
        "ab.fit(X_large_train, y_large_train)\n",
        "ab_large_acc = ab.score(X_large_test, y_large_test)\n",
        "ab_large_acc"
      ],
      "metadata": {
        "colab": {
          "base_uri": "https://localhost:8080/"
        },
        "id": "z2pUaJe9jMBm",
        "outputId": "c6f09cc1-2ae5-4aa3-c23a-07ae6c095c66"
      },
      "execution_count": 167,
      "outputs": [
        {
          "output_type": "execute_result",
          "data": {
            "text/plain": [
              "0.838578477130284"
            ]
          },
          "metadata": {},
          "execution_count": 167
        }
      ]
    },
    {
      "cell_type": "code",
      "source": [
        "ab.fit(X_small_train, y_small_train)\n",
        "ab_small_acc = ab.score(X_small_test, y_small_test)\n",
        "ab_small_acc"
      ],
      "metadata": {
        "colab": {
          "base_uri": "https://localhost:8080/"
        },
        "id": "tqFOnGp2jMLV",
        "outputId": "9d3f08a7-4d1a-41ea-f6ad-f5d812ee1816"
      },
      "execution_count": 168,
      "outputs": [
        {
          "output_type": "execute_result",
          "data": {
            "text/plain": [
              "0.7901085036588443"
            ]
          },
          "metadata": {},
          "execution_count": 168
        }
      ]
    },
    {
      "cell_type": "code",
      "source": [
        "ab_small_to_large_acc = ab.score(X_large_test, y_large_test)\n",
        "ab_small_to_large_acc"
      ],
      "metadata": {
        "id": "CMIqJpXYphQX",
        "colab": {
          "base_uri": "https://localhost:8080/"
        },
        "outputId": "424e19d5-4792-4d6b-c1f1-59c3b3a396c0"
      },
      "execution_count": 149,
      "outputs": [
        {
          "output_type": "execute_result",
          "data": {
            "text/plain": [
              "0.7078943859181224"
            ]
          },
          "metadata": {},
          "execution_count": 149
        }
      ]
    },
    {
      "cell_type": "markdown",
      "source": [
        "Unlike with logistic regression, there do not appear to be any issues with outliers in AdaBoost and the smaller data set cannot generalize to the larger data set."
      ],
      "metadata": {
        "id": "BjwLml7I-LBg"
      }
    },
    {
      "cell_type": "code",
      "source": [
        "ab.fit(X_large_train, y_large_train) # refit to large data set \n",
        "ab_large_preds = ab.predict(X_large_test)\n",
        "ab_large_f1 = f1_score(y_large_test, ab_large_preds)\n",
        "ab_large_f1"
      ],
      "metadata": {
        "colab": {
          "base_uri": "https://localhost:8080/"
        },
        "id": "oSdfil089iTB",
        "outputId": "8f0a400a-fc85-4f21-8a1c-024b4f1cc9c3"
      },
      "execution_count": 150,
      "outputs": [
        {
          "output_type": "execute_result",
          "data": {
            "text/plain": [
              "0.8964366685203405"
            ]
          },
          "metadata": {},
          "execution_count": 150
        }
      ]
    },
    {
      "cell_type": "code",
      "source": [
        "ab.fit(X_small_train, y_small_train)\n",
        "ab_small_preds = ab.predict(X_small_test)\n",
        "ab_small_f1 = f1_score(y_small_test, ab_small_preds)\n",
        "ab_small_f1"
      ],
      "metadata": {
        "id": "tRcm2Bt4phVJ",
        "colab": {
          "base_uri": "https://localhost:8080/"
        },
        "outputId": "f8a80a95-309b-4692-98b0-dcab7cafb618"
      },
      "execution_count": 151,
      "outputs": [
        {
          "output_type": "execute_result",
          "data": {
            "text/plain": [
              "0.8496873757634897"
            ]
          },
          "metadata": {},
          "execution_count": 151
        }
      ]
    },
    {
      "cell_type": "code",
      "source": [
        "ab_small_to_large_preds = ab.predict(X_large_test)\n",
        "ab_small_to_large_f1 = f1_score(y_large_test, ab_small_to_large_preds)\n",
        "ab_small_to_large_f1"
      ],
      "metadata": {
        "colab": {
          "base_uri": "https://localhost:8080/"
        },
        "id": "Ys1Xh_Dc-KSF",
        "outputId": "563908d1-0079-451a-a244-aa4f06c0f619"
      },
      "execution_count": 152,
      "outputs": [
        {
          "output_type": "execute_result",
          "data": {
            "text/plain": [
              "0.792997542997543"
            ]
          },
          "metadata": {},
          "execution_count": 152
        }
      ]
    },
    {
      "cell_type": "markdown",
      "source": [
        "Again the smaller data set is not able to generalize to the larger one per the F$_{1}$ score. AdaBoost seems robust to outliers."
      ],
      "metadata": {
        "id": "qeoxvTcGJnW6"
      }
    },
    {
      "cell_type": "code",
      "source": [
        "ab.fit(X_large_train, y_large_train)\n",
        "ab_large_predprobs = ab.predict_proba(X_large_test)[:,1]\n",
        "auc_ab_large = roc_auc_score(y_large_test, ab_large_predprobs)\n",
        "auc_ab_large"
      ],
      "metadata": {
        "colab": {
          "base_uri": "https://localhost:8080/"
        },
        "id": "qRkoEXltJ2fL",
        "outputId": "9b61e552-8c40-4b2b-ef30-cb8fab83eba8"
      },
      "execution_count": 186,
      "outputs": [
        {
          "output_type": "execute_result",
          "data": {
            "text/plain": [
              "0.8653820131825691"
            ]
          },
          "metadata": {},
          "execution_count": 186
        }
      ]
    },
    {
      "cell_type": "code",
      "source": [
        "ab.fit(X_small_train, y_small_train)\n",
        "ab_small_predprobs = ab.predict_proba(X_small_test)[:,1]\n",
        "auc_ab_small = roc_auc_score(y_small_test, ab_small_predprobs)\n",
        "auc_ab_small"
      ],
      "metadata": {
        "colab": {
          "base_uri": "https://localhost:8080/"
        },
        "id": "Y_DcBnKJJ20x",
        "outputId": "fc62e0c0-e1f9-4e85-bea4-b0258e73ace2"
      },
      "execution_count": 187,
      "outputs": [
        {
          "output_type": "execute_result",
          "data": {
            "text/plain": [
              "0.845311747862192"
            ]
          },
          "metadata": {},
          "execution_count": 187
        }
      ]
    },
    {
      "cell_type": "code",
      "source": [
        "ab_small_to_large_predprobs = ab.predict_proba(X_large_test)[:,1]\n",
        "auc_ab_small_to_large = roc_auc_score(y_large_test, ab_small_to_large_predprobs)\n",
        "auc_ab_small_to_large"
      ],
      "metadata": {
        "colab": {
          "base_uri": "https://localhost:8080/"
        },
        "id": "3Nhy9Z3DRgCY",
        "outputId": "81b0727f-3874-483f-9b4c-44ce9d21d384"
      },
      "execution_count": 189,
      "outputs": [
        {
          "output_type": "execute_result",
          "data": {
            "text/plain": [
              "0.7469219850225496"
            ]
          },
          "metadata": {},
          "execution_count": 189
        }
      ]
    },
    {
      "cell_type": "markdown",
      "source": [
        "A similar story is told with AUC, with good performance but inability to generalize to the larger data set using the model fitted on the smaller one."
      ],
      "metadata": {
        "id": "9znuSMBYSnCF"
      }
    },
    {
      "cell_type": "markdown",
      "source": [
        "# XGBoost"
      ],
      "metadata": {
        "id": "O5cAe20g2LEP"
      }
    },
    {
      "cell_type": "markdown",
      "source": [
        "A similar procedure to what has been conducted for AdaBoost is now done for XGBoost with 100 estimators also used.  "
      ],
      "metadata": {
        "id": "R_z8LoJv2LRj"
      }
    },
    {
      "cell_type": "code",
      "source": [
        "xgb = XGBClassifier(n_estimators=100, random_state=0) # not fit so can be reused and random_state set for reproducbility\n",
        "xgb.fit(X_large_train, y_large_train)\n",
        "xgb_large_acc = xgb.score(X_large_test, y_large_test)\n",
        "xgb_large_acc"
      ],
      "metadata": {
        "id": "4OT2x8fDHk4m",
        "colab": {
          "base_uri": "https://localhost:8080/"
        },
        "outputId": "7804eecf-fe20-49e2-b020-a212cb04466a"
      },
      "execution_count": 172,
      "outputs": [
        {
          "output_type": "execute_result",
          "data": {
            "text/plain": [
              "0.8601146819575943"
            ]
          },
          "metadata": {},
          "execution_count": 172
        }
      ]
    },
    {
      "cell_type": "code",
      "source": [
        "xgb.fit(X_small_train, y_small_train)\n",
        "xgb_small_acc = xgb.score(X_small_test, y_small_test)\n",
        "xgb_small_acc"
      ],
      "metadata": {
        "colab": {
          "base_uri": "https://localhost:8080/"
        },
        "id": "Xdss7k3XMStY",
        "outputId": "15588466-219a-4896-efbf-7789d8877327"
      },
      "execution_count": 173,
      "outputs": [
        {
          "output_type": "execute_result",
          "data": {
            "text/plain": [
              "0.8259399444865001"
            ]
          },
          "metadata": {},
          "execution_count": 173
        }
      ]
    },
    {
      "cell_type": "code",
      "source": [
        "xgb_small_to_large_acc = xgb.score(X_large_test, y_large_test)\n",
        "xgb_small_to_large_acc"
      ],
      "metadata": {
        "colab": {
          "base_uri": "https://localhost:8080/"
        },
        "id": "b8pS8X7pNCxY",
        "outputId": "e986dfed-5366-4f94-86d7-45e58549264f"
      },
      "execution_count": 174,
      "outputs": [
        {
          "output_type": "execute_result",
          "data": {
            "text/plain": [
              "0.8629150553407121"
            ]
          },
          "metadata": {},
          "execution_count": 174
        }
      ]
    },
    {
      "cell_type": "markdown",
      "source": [
        "Unlike AdaBoost, XGBoost actually does allow for good generalization from the smaller model and also has the best performance on both data sets with respect to accuracy."
      ],
      "metadata": {
        "id": "atXFntK7NakH"
      }
    },
    {
      "cell_type": "code",
      "source": [
        "xgb.fit(X_large_train, y_large_train) # refit to larger data set\n",
        "xgb_large_preds = xgb.predict(X_large_test)\n",
        "xgb_large_f1 = f1_score(y_large_test, xgb_large_preds)\n",
        "xgb_large_f1"
      ],
      "metadata": {
        "id": "c9SnEDI6Hk7p",
        "colab": {
          "base_uri": "https://localhost:8080/"
        },
        "outputId": "b276c68c-b667-4767-faa7-21b1b7b92087"
      },
      "execution_count": 175,
      "outputs": [
        {
          "output_type": "execute_result",
          "data": {
            "text/plain": [
              "0.9099416208791209"
            ]
          },
          "metadata": {},
          "execution_count": 175
        }
      ]
    },
    {
      "cell_type": "code",
      "source": [
        "xgb.fit(X_small_train, y_small_train)\n",
        "xgb_small_preds = xgb.predict(X_small_test)\n",
        "xgb_small_f1 = f1_score(y_small_test, xgb_small_preds)\n",
        "xgb_small_f1"
      ],
      "metadata": {
        "id": "_gLcejL4Hk-f",
        "colab": {
          "base_uri": "https://localhost:8080/"
        },
        "outputId": "7e7af0c2-04cf-4283-d653-a9346aed2d57"
      },
      "execution_count": 176,
      "outputs": [
        {
          "output_type": "execute_result",
          "data": {
            "text/plain": [
              "0.8741286814349842"
            ]
          },
          "metadata": {},
          "execution_count": 176
        }
      ]
    },
    {
      "cell_type": "code",
      "source": [
        "xgb_small_to_large_preds = xgb.predict(X_large_test)\n",
        "xgb_small_to_large_f1 = f1_score(y_large_test, xgb_small_to_large_preds)\n",
        "xgb_small_to_large_f1"
      ],
      "metadata": {
        "colab": {
          "base_uri": "https://localhost:8080/"
        },
        "id": "8GV7Ak52OWlX",
        "outputId": "c314c80c-e87a-426f-e94d-aafdb4ed2ff3"
      },
      "execution_count": 177,
      "outputs": [
        {
          "output_type": "execute_result",
          "data": {
            "text/plain": [
              "0.9114975679049545"
            ]
          },
          "metadata": {},
          "execution_count": 177
        }
      ]
    },
    {
      "cell_type": "markdown",
      "source": [
        "Again the F$_{1}$ score like with accuracy for XGBoost improves using inference made from the model on the smaller data set to the larger one. Additionally XGBoost performs best across the board on F$_{1}$ scores as was the case with accuracy. "
      ],
      "metadata": {
        "id": "oj8UawU1Ok_H"
      }
    },
    {
      "cell_type": "code",
      "source": [
        "xgb.fit(X_large_train, y_large_train)\n",
        "xgb_large_predprobs = xgb.predict_proba(X_large_test)[:,1]\n",
        "auc_xgb_large = roc_auc_score(y_large_test, xgb_large_predprobs)\n",
        "auc_xgb_large"
      ],
      "metadata": {
        "colab": {
          "base_uri": "https://localhost:8080/"
        },
        "id": "wRRs47PKUCdE",
        "outputId": "22514223-5a6f-4302-e835-963a11021b4e"
      },
      "execution_count": 190,
      "outputs": [
        {
          "output_type": "execute_result",
          "data": {
            "text/plain": [
              "0.8982091430103811"
            ]
          },
          "metadata": {},
          "execution_count": 190
        }
      ]
    },
    {
      "cell_type": "code",
      "source": [
        "xgb.fit(X_small_train, y_small_train)\n",
        "xgb_small_predprobs = xgb.predict_proba(X_small_test)[:,1]\n",
        "auc_xgb_small = roc_auc_score(y_small_test, xgb_small_predprobs)\n",
        "auc_xgb_small"
      ],
      "metadata": {
        "colab": {
          "base_uri": "https://localhost:8080/"
        },
        "id": "XFHozsNiUCin",
        "outputId": "2cb813c4-b499-4326-87e0-c26673edf948"
      },
      "execution_count": 191,
      "outputs": [
        {
          "output_type": "execute_result",
          "data": {
            "text/plain": [
              "0.8863110555199265"
            ]
          },
          "metadata": {},
          "execution_count": 191
        }
      ]
    },
    {
      "cell_type": "code",
      "source": [
        "xgb_small_to_large_predprobs = xgb.predict_proba(X_large_test)[:,1]\n",
        "auc_xgb_small_to_large = roc_auc_score(y_large_test, xgb_small_to_large_predprobs)\n",
        "auc_xgb_small_to_large"
      ],
      "metadata": {
        "colab": {
          "base_uri": "https://localhost:8080/"
        },
        "id": "MxGCV09LUCqN",
        "outputId": "f8f5c079-1a63-4052-fe8f-fb092f91a283"
      },
      "execution_count": 192,
      "outputs": [
        {
          "output_type": "execute_result",
          "data": {
            "text/plain": [
              "0.8896847526696368"
            ]
          },
          "metadata": {},
          "execution_count": 192
        }
      ]
    },
    {
      "cell_type": "markdown",
      "source": [
        "AUC is also highest for both data sets for XGBoost with minimal drop in performance when the model fit on the smaller data set is used for inference on the larger data set.\n"
      ],
      "metadata": {
        "id": "X2WNzY3TUDnS"
      }
    },
    {
      "cell_type": "markdown",
      "source": [
        "# Results Summary"
      ],
      "metadata": {
        "id": "61ibjYW82UnE"
      }
    },
    {
      "cell_type": "markdown",
      "source": [
        "The tables below summarizes results for both the large data sets across the models we have tried. The top table is for the larger data set. All values are to 3 significant figures."
      ],
      "metadata": {
        "id": "far0b9OiBtKV"
      }
    },
    {
      "cell_type": "markdown",
      "source": [
        "|Metric|All Pos. Bench.|LR w/ outliers|LR w/ thresh. adj.|AdaBoost, n_est=100|AdaBoost small to large|XGBoost, n_est=100|XGBoost small to large|\n",
        "|:----|:--------|:--------|:--------|:--------|:--------|:--------|:--------:|\n",
        "|Accuracy|0.760|0.759|0.825|0.839|0.708|0.860|0.863|\n",
        "|F$_{1}$|0.865|0.855|0.885|0.896|0.793|0.910|0.911|\n",
        "|AUC|0.500|0.787|0.834|0.865|0.747|0.898|0.886|\n"
      ],
      "metadata": {
        "id": "JzfFuT252s-M"
      }
    },
    {
      "cell_type": "markdown",
      "source": [
        "|Metric|All Pos. Bench.|LR w/ thresh. adj.|AdaBoost, n_est=100|XGBoost, n_est=100|\n",
        "|:----|:--------|:--------|:--------|:--------:|\n",
        "|Accuracy|0.682|0.776|0.790|0.826|\n",
        "|F$_{1}$|0.811|0.835|0.850|0.874|\n",
        "|AUC|0.500|0.821|0.845|0.890|\n"
      ],
      "metadata": {
        "id": "zhV2anpLGyAd"
      }
    },
    {
      "cell_type": "markdown",
      "source": [
        "XGBoost performs best across metrics on all data sets with the smaller data set generalizing well and outperforming fitting directly on the larger data set on all but the AUC. AdaBoost without outliers cannot make inference on the outliers and performs worse than benchmarks except for AUC and logistic regression with outliers across all metrics. Representative data appears to be important for AdaBoost comparatively.  \n"
      ],
      "metadata": {
        "id": "nv9Q5_2FpXX4"
      }
    },
    {
      "cell_type": "markdown",
      "source": [
        "# Conclusion"
      ],
      "metadata": {
        "id": "SayaSX4B2W3i"
      }
    },
    {
      "cell_type": "markdown",
      "source": [
        "While using logistic regression, it appears handling outliers is important otherwise model performance suffers. Large sequence values led to the weights becoming very small.  Reasonably good predictions of whether the tenth value was larger than the ninth on removed out-of-distribution sequences was still possible though once threshold moving was used to tune the threshold on the smaller data set.  This generalizability was also possible with XGBoost but not with AdaBoost, though both were able to handle outliers in model fitting better than logistic regression. \n",
        " \n",
        "\n",
        "Some further work can be done with regards to understanding the impact of standard transforms on sequence data such as differencing or log-transforms (as skew was present here) and which models benefit, which are agnostic and which perform worse. Additionally, which algorithms benefit from all nine sequence values versus only needing a subset (eighth and ninth only for example) would be another avenue of research.\n"
      ],
      "metadata": {
        "id": "uPHReW5-2XBM"
      }
    },
    {
      "cell_type": "markdown",
      "source": [
        "# References\n",
        "\n",
        "(Sloane, 1964) https://oeis.org/ \n",
        "\n",
        " (Bieber, 2020) https://davidbieber.com/snippets/2020-06-28-oeis-download/ \n",
        "\n",
        "Threshold moving, https://machinelearningmastery.com/threshold-moving-for-imbalanced-classification/\n"
      ],
      "metadata": {
        "id": "QARYtAYvi2gH"
      }
    }
  ]
}
